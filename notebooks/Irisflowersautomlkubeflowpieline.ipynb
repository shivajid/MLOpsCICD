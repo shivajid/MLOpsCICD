{
 "cells": [
  {
   "cell_type": "code",
   "execution_count": 1,
   "id": "fa1ac3f4-ae8e-43d1-bf66-aed7aab06434",
   "metadata": {},
   "outputs": [],
   "source": [
    "# Copyright 2021 Google LLC\n",
    "#\n",
    "# Licensed under the Apache License, Version 2.0 (the \"License\");\n",
    "# you may not use this file except in compliance with the License.\n",
    "# You may obtain a copy of the License at\n",
    "#\n",
    "#     https://www.apache.org/licenses/LICENSE-2.0\n",
    "#\n",
    "# Unless required by applicable law or agreed to in writing, software\n",
    "# distributed under the License is distributed on an \"AS IS\" BASIS,\n",
    "# WITHOUT WARRANTIES OR CONDITIONS OF ANY KIND, either express or implied.\n",
    "# See the License for the specific language governing permissions and\n",
    "# limitations under the License."
   ]
  },
  {
   "cell_type": "markdown",
   "id": "02b74163-a8dc-4650-8ce5-85321809442a",
   "metadata": {},
   "source": [
    "# Vertex AI Pipelines: Iris Dataset Image classification pipelines using google-cloud-pipeline-components and AutoML\n",
    "\n",
    "<table align=\"left\">\n",
    "  <td>\n",
    "    <a href=\"https://colab.research.google.com/github/shivajid/MLOpsCICD/blob/master/notebooks/Irisflowersautomlkubeflowpieline.ipynb\">\n",
    "      <img src=\"https://cloud.google.com/ml-engine/images/colab-logo-32px.png\" alt=\"Colab logo\"> Run in Colab\n",
    "    </a>\n",
    "  </td>\n",
    "  <td>\n",
    "    <a href=\"https://github.com/shivajid/MLOpsCICD/blob/master/notebooks/Irisflowersautomlkubeflowpieline.ipynb\">\n",
    "      <img src=\"https://cloud.google.com/ml-engine/images/github-logo-32px.png\" alt=\"GitHub logo\">\n",
    "      View on GitHub\n",
    "    </a>\n",
    "  </td>\n",
    "  <td>\n",
    "    <a href=\"https://console.cloud.google.com/ai/platform/notebooks/deploy-notebook?download_url=https://github.com/shivajid/MLOpsCICD/blob/master/notebooks/Irisflowersautomlkubeflowpieline.ipynb\">\n",
    "      Open in Google Cloud Notebooks\n",
    "    </a>\n",
    "  </td>\n",
    "</table>\n",
    "<br/><br/><br/>"
   ]
  },
  {
   "cell_type": "markdown",
   "id": "217c9a22-54c3-4617-8b6b-e03037b3fb0a",
   "metadata": {},
   "source": [
    "## Overview\n",
    "\n",
    "This is notebook is part of a 4 day workshop. This notebook shows how you can run a pipeline to train using Vertex AI Pipelines.\n",
    "\n",
    "\n",
    "### Dataset\n",
    "\n",
    "The dataset used is IRIS Dataset for flower classification\n",
    "\n",
    "\n",
    "### Objective\n",
    "In this tutorial, you create a custom image classification using a pipeline with components from  `google_cloud_pipeline_components`. This is just pre-cursor to the rest of the tutorial. We will use the same template of the code to run the next steps of automated training.\n",
    "\n",
    "The steps performed include:\n",
    "\n",
    "- Pull from an existing `Dataset` resource.\n",
    "- Train a Custom `Model` resource.\n",
    "- Create an `Endpoint` resource.\n",
    "- Deploy the `Model` resource to the `Endpoint` resource.\n",
    "\n",
    "The components are [documented here](https://google-cloud-pipeline-components.readthedocs.io/en/latest/google_cloud_pipeline_components.aiplatform.html#module-google_cloud_pipeline_components.aiplatform).\n",
    "\n"
   ]
  },
  {
   "cell_type": "markdown",
   "id": "7da631a9-cced-4183-b93f-55cb9509023a",
   "metadata": {},
   "source": [
    "### Costs\n",
    "\n",
    "This tutorial uses billable components of Google Cloud:\n",
    "\n",
    "* Vertex AI\n",
    "* Cloud Storage\n",
    "\n",
    "Learn about [Vertex AI\n",
    "pricing](https://cloud.google.com/vertex-ai/pricing) and [Cloud Storage\n",
    "pricing](https://cloud.google.com/storage/pricing), and use the [Pricing\n",
    "Calculator](https://cloud.google.com/products/calculator/)\n",
    "to generate a cost estimate based on your projected usage."
   ]
  },
  {
   "cell_type": "markdown",
   "id": "47214b63-353d-4458-9bb4-e113a944d2c2",
   "metadata": {},
   "source": [
    "### Set up your local development environment\n",
    "\n",
    "If you are using Colab or Google Cloud Notebook, your environment already meets all the requirements to run this notebook. You can skip this step.\n",
    "\n",
    "Otherwise, make sure your environment meets this notebook's requirements. You need the following:\n",
    "\n",
    "- The Cloud Storage SDK\n",
    "- Git\n",
    "- Python 3\n",
    "- virtualenv\n",
    "- Jupyter notebook running in a virtual environment with Python 3\n",
    "\n",
    "The Cloud Storage guide to [Setting up a Python development environment](https://cloud.google.com/python/setup) and the [Jupyter installation guide](https://jupyter.org/install) provide detailed instructions for meeting these requirements. The following steps provide a condensed set of instructions:\n",
    "\n",
    "1. [Install and initialize the SDK](https://cloud.google.com/sdk/docs/).\n",
    "\n",
    "2. [Install Python 3](https://cloud.google.com/python/setup#installing_python).\n",
    "\n",
    "3. [Install virtualenv](Ihttps://cloud.google.com/python/setup#installing_and_using_virtualenv) and create a virtual environment that uses Python 3.\n",
    "\n",
    "4. Activate that environment and run `pip3 install Jupyter` in a terminal shell to install Jupyter.\n",
    "\n",
    "5. Run `jupyter notebook` on the command line in a terminal shell to launch Jupyter.\n",
    "\n",
    "6. Open this notebook in the Jupyter Notebook Dashboard.\n"
   ]
  },
  {
   "cell_type": "markdown",
   "id": "7ee1d341-75ef-464e-8386-14ff8fb95d34",
   "metadata": {},
   "source": [
    "### Installation\n",
    "\n",
    "Install the latest version of Vertex SDK for Python"
   ]
  },
  {
   "cell_type": "code",
   "execution_count": 6,
   "id": "dd3424b9-afd1-4e0b-90ac-89b436b6c20c",
   "metadata": {},
   "outputs": [],
   "source": [
    "import os\n",
    "\n",
    "# Google Cloud Notebook\n",
    "if os.path.exists(\"/opt/deeplearning/metadata/env_version\"):\n",
    "    USER_FLAG = \"--user\"\n",
    "else:\n",
    "    USER_FLAG = \"\""
   ]
  },
  {
   "cell_type": "raw",
   "id": "e931b901-ce79-4289-afac-98c6bc43537a",
   "metadata": {},
   "source": [
    "# Run this cells if you have not installed the sdks before.\n",
    "\n",
    "! pip3 install --upgrade google-cloud-aiplatform $USER_FLAG\n",
    "! pip3 install $USER kfp google-cloud-pipeline-components==0.1.7 --upgrade\n",
    "\n",
    "import os\n",
    "\n",
    "if not os.getenv(\"IS_TESTING\"):\n",
    "    # Automatically restart kernel after installs\n",
    "    import IPython\n",
    "\n",
    "    app = IPython.Application.instance()\n",
    "    app.kernel.do_shutdown(True)"
   ]
  },
  {
   "cell_type": "code",
   "execution_count": 8,
   "id": "a638c400-2365-438f-b4c7-e3774a4a9222",
   "metadata": {},
   "outputs": [
    {
     "name": "stdout",
     "output_type": "stream",
     "text": [
      "KFP SDK version: 1.8.7\n",
      "google_cloud_pipeline_components version: 0.1.7\n"
     ]
    }
   ],
   "source": [
    "#Check the version of the KFP\n",
    "\n",
    "! python3 -c \"import kfp; print('KFP SDK version: {}'.format(kfp.__version__))\"\n",
    "! python3 -c \"import google_cloud_pipeline_components; print('google_cloud_pipeline_components version: {}'.format(google_cloud_pipeline_components.__version__))\""
   ]
  },
  {
   "cell_type": "markdown",
   "id": "0998d940-4aa8-4623-bad2-5fb53e9b85fb",
   "metadata": {},
   "source": [
    "## Before you begin\n",
    "\n",
    "### GPU runtime\n",
    "\n",
    "This tutorial does not require a GPU runtime.\n",
    "\n",
    "### Set up your Google Cloud project\n",
    "\n",
    "**The following steps are required, regardless of your notebook environment.**\n",
    "\n",
    "1. [Select or create a Google Cloud project](https://console.cloud.google.com/cloud-resource-manager). When you first create an account, you get a $300 free credit towards your compute/storage costs.\n",
    "\n",
    "2. [Make sure that billing is enabled for your project.](https://cloud.google.com/billing/docs/how-to/modify-project)\n",
    "\n",
    "3. [Enable the Vertex AI APIs, Compute Engine APIs, and Cloud Storage.](https://console.cloud.google.com/flows/enableapi?apiid=ml.googleapis.com,compute_component,storage-component.googleapis.com)\n",
    "\n",
    "4. [The Google Cloud SDK](https://cloud.google.com/sdk) is already installed in Google Cloud Notebook.\n",
    "\n",
    "5. Enter your project ID in the cell below. Then run the  cell to make sure the\n",
    "Cloud SDK uses the right project for all the commands in this notebook.\n",
    "\n",
    "**Note**: Jupyter runs lines prefixed with `!` as shell commands, and it interpolates Python variables prefixed with `$`."
   ]
  },
  {
   "cell_type": "markdown",
   "id": "938a06e0-594b-4c39-a782-b6c189bd766c",
   "metadata": {},
   "source": [
    "### Pipeline Code Begins here\n",
    "\n",
    "In next steps we will create a pipeline"
   ]
  },
  {
   "cell_type": "code",
   "execution_count": 11,
   "id": "1612aa6f-dcd3-4084-b33a-d75c6799fbc8",
   "metadata": {},
   "outputs": [],
   "source": [
    "#Import the needed packages\n",
    "import kfp\n",
    "from kfp.v2 import compiler\n",
    "from kfp.v2.google.client import AIPlatformClient\n",
    "from google.cloud import aiplatform\n",
    "from google.cloud import aiplatform as aip\n",
    "from google_cloud_pipeline_components import aiplatform as gcc_aip\n"
   ]
  },
  {
   "cell_type": "code",
   "execution_count": 13,
   "id": "b9b861f7-63cd-48be-bfaf-d04ac1446ee7",
   "metadata": {},
   "outputs": [],
   "source": [
    "#Change the project and the storage bucket that you want to use. You can reuse an old bucket or create a new bucke. Look at the Google Cloud documenation.\n",
    "aip.init(project=\"[Your Project Name]\", staging_bucket=\"[Your Storage Bucker]\")"
   ]
  },
  {
   "cell_type": "markdown",
   "id": "c38f79c8-a57d-4803-8b0e-c7e26fdeac27",
   "metadata": {},
   "source": [
    "### Build the Pipeline\n",
    "\n",
    "It Creates a very simple pipeline of \n",
    "- Creating a Dataset\n",
    "- Creating a Training Job\n",
    "- Deploying the Model\n"
   ]
  },
  {
   "cell_type": "code",
   "execution_count": 3,
   "id": "da156d79-7a35-4f22-a291-35d2c272197c",
   "metadata": {},
   "outputs": [],
   "source": [
    "PROJECT_ID=\"[Your Project Name]\"\n",
    "@kfp.dsl.pipeline(name=\"[Your Pipeline Name]\")\n",
    "def pipeline(project: str = PROJECT_ID):\n",
    "    \n",
    "    #Create the dataset\n",
    "    ds_op = gcc_aip.ImageDatasetCreateOp(\n",
    "        project=project,\n",
    "        display_name=\"flowers\",\n",
    "        gcs_source=\"gs://cloud-samples-data/vision/automl_classification/flowers/all_data_v2.csv\",\n",
    "        import_schema_uri=aip.schema.dataset.ioformat.image.single_label_classification,\n",
    "    )\n",
    "\n",
    "    #Train the pipeline\n",
    "    training_job_run_op = gcc_aip.AutoMLImageTrainingJobRunOp(\n",
    "        project=project,\n",
    "        display_name=\"train-automl-flowers\",\n",
    "        prediction_type=\"classification\",\n",
    "        model_type=\"CLOUD\",\n",
    "        base_model=None,\n",
    "        dataset=ds_op.outputs[\"dataset\"],\n",
    "        model_display_name=\"train-automl-flowers\",\n",
    "        training_fraction_split=0.7,\n",
    "        validation_fraction_split=0.2,\n",
    "        test_fraction_split=0.1,\n",
    "        budget_milli_node_hours=8000,\n",
    "    )\n",
    "    # 0.1.7 is needed currently to address a bug in the latest container image\n",
    "    gcc_aip.ModelDeployOp.component_spec.implementation.container.image = (\"gcr.io/ml-pipeline/google-cloud-pipeline-components:0.1.7\")\n",
    " \n",
    "    #Deploy the model\n",
    "    endpoint_op = gcc_aip.ModelDeployOp(  \n",
    "         model=training_job_run_op.outputs[\"model\"],\n",
    "         project=PROJECT_ID\n",
    "    )\n",
    "  "
   ]
  },
  {
   "cell_type": "markdown",
   "id": "5a4c5a53-baaf-4751-b0d3-d9cc786e5879",
   "metadata": {},
   "source": [
    "### Compile the pipeline"
   ]
  },
  {
   "cell_type": "code",
   "execution_count": 46,
   "id": "345bc9cd-a9fe-4f9a-b2c5-b4dd2336c3ae",
   "metadata": {},
   "outputs": [],
   "source": [
    "from kfp.v2 import compiler\n",
    "\n",
    "compiler.Compiler().compile(\n",
    "    pipeline_func=pipeline,\n",
    "    package_path=\"image classification_pipeline.json\".replace(\" \", \"_\"),\n",
    ")"
   ]
  },
  {
   "cell_type": "markdown",
   "id": "6a44d1a7-c1f4-4dbe-8de1-e739d70d219a",
   "metadata": {},
   "source": [
    "### Create a job config "
   ]
  },
  {
   "cell_type": "code",
   "execution_count": 51,
   "id": "8bf6b18c-0a5c-44d3-a786-f4ac581824fe",
   "metadata": {},
   "outputs": [],
   "source": [
    "from datetime import datetime\n",
    "\n",
    "TIMESTAMP = datetime.now().strftime(\"%Y%m%d%H%M%S\")\n",
    "DISPLAY_NAME = \"flowers_\" + TIMESTAMP\n",
    "PIPELINE_ROOT=\"gs://demogct/vipipelines/\"\n",
    "\n",
    "job = aip.PipelineJob(\n",
    "    display_name=DISPLAY_NAME,\n",
    "    template_path=\"image classification_pipeline.json\".replace(\" \", \"_\"),\n",
    "    pipeline_root=PIPELINE_ROOT,\n",
    ")\n"
   ]
  },
  {
   "cell_type": "markdown",
   "id": "75abbb33-de1e-47c3-bd9b-1c6837e270ab",
   "metadata": {},
   "source": [
    "### Execute the Pipeline"
   ]
  },
  {
   "cell_type": "code",
   "execution_count": null,
   "id": "91851aa1-c8e8-4195-85e5-7ce31f403c24",
   "metadata": {},
   "outputs": [
    {
     "name": "stdout",
     "output_type": "stream",
     "text": [
      "INFO:google.cloud.aiplatform.pipeline_jobs:Creating PipelineJob\n",
      "INFO:google.cloud.aiplatform.pipeline_jobs:PipelineJob created. Resource name: projects/313681173937/locations/us-central1/pipelineJobs/automl-image-training-v2-20211030074450\n",
      "INFO:google.cloud.aiplatform.pipeline_jobs:To use this PipelineJob in another session:\n",
      "INFO:google.cloud.aiplatform.pipeline_jobs:pipeline_job = aiplatform.PipelineJob.get('projects/313681173937/locations/us-central1/pipelineJobs/automl-image-training-v2-20211030074450')\n",
      "INFO:google.cloud.aiplatform.pipeline_jobs:View Pipeline Job:\n",
      "https://console.cloud.google.com/vertex-ai/locations/us-central1/pipelines/runs/automl-image-training-v2-20211030074450?project=313681173937\n",
      "INFO:google.cloud.aiplatform.pipeline_jobs:PipelineJob projects/313681173937/locations/us-central1/pipelineJobs/automl-image-training-v2-20211030074450 current state:\n",
      "PipelineState.PIPELINE_STATE_RUNNING\n",
      "INFO:google.cloud.aiplatform.pipeline_jobs:PipelineJob projects/313681173937/locations/us-central1/pipelineJobs/automl-image-training-v2-20211030074450 current state:\n",
      "PipelineState.PIPELINE_STATE_RUNNING\n",
      "INFO:google.cloud.aiplatform.pipeline_jobs:PipelineJob projects/313681173937/locations/us-central1/pipelineJobs/automl-image-training-v2-20211030074450 current state:\n",
      "PipelineState.PIPELINE_STATE_RUNNING\n",
      "INFO:google.cloud.aiplatform.pipeline_jobs:PipelineJob projects/313681173937/locations/us-central1/pipelineJobs/automl-image-training-v2-20211030074450 current state:\n",
      "PipelineState.PIPELINE_STATE_RUNNING\n",
      "INFO:google.cloud.aiplatform.pipeline_jobs:PipelineJob projects/313681173937/locations/us-central1/pipelineJobs/automl-image-training-v2-20211030074450 current state:\n",
      "PipelineState.PIPELINE_STATE_RUNNING\n",
      "INFO:google.cloud.aiplatform.pipeline_jobs:PipelineJob projects/313681173937/locations/us-central1/pipelineJobs/automl-image-training-v2-20211030074450 current state:\n",
      "PipelineState.PIPELINE_STATE_RUNNING\n",
      "INFO:google.cloud.aiplatform.pipeline_jobs:PipelineJob projects/313681173937/locations/us-central1/pipelineJobs/automl-image-training-v2-20211030074450 current state:\n",
      "PipelineState.PIPELINE_STATE_RUNNING\n",
      "INFO:google.cloud.aiplatform.pipeline_jobs:PipelineJob projects/313681173937/locations/us-central1/pipelineJobs/automl-image-training-v2-20211030074450 current state:\n",
      "PipelineState.PIPELINE_STATE_RUNNING\n",
      "INFO:google.cloud.aiplatform.pipeline_jobs:PipelineJob projects/313681173937/locations/us-central1/pipelineJobs/automl-image-training-v2-20211030074450 current state:\n",
      "PipelineState.PIPELINE_STATE_RUNNING\n",
      "INFO:google.cloud.aiplatform.pipeline_jobs:PipelineJob projects/313681173937/locations/us-central1/pipelineJobs/automl-image-training-v2-20211030074450 current state:\n",
      "PipelineState.PIPELINE_STATE_RUNNING\n",
      "INFO:google.cloud.aiplatform.pipeline_jobs:PipelineJob projects/313681173937/locations/us-central1/pipelineJobs/automl-image-training-v2-20211030074450 current state:\n",
      "PipelineState.PIPELINE_STATE_RUNNING\n",
      "INFO:google.cloud.aiplatform.pipeline_jobs:PipelineJob projects/313681173937/locations/us-central1/pipelineJobs/automl-image-training-v2-20211030074450 current state:\n",
      "PipelineState.PIPELINE_STATE_RUNNING\n",
      "INFO:google.cloud.aiplatform.pipeline_jobs:PipelineJob projects/313681173937/locations/us-central1/pipelineJobs/automl-image-training-v2-20211030074450 current state:\n",
      "PipelineState.PIPELINE_STATE_RUNNING\n",
      "INFO:google.cloud.aiplatform.pipeline_jobs:PipelineJob projects/313681173937/locations/us-central1/pipelineJobs/automl-image-training-v2-20211030074450 current state:\n",
      "PipelineState.PIPELINE_STATE_RUNNING\n"
     ]
    }
   ],
   "source": [
    "job.run()"
   ]
  },
  {
   "cell_type": "markdown",
   "id": "fb8fa15e-364c-44db-9cfb-f85570ffe76b",
   "metadata": {},
   "source": [
    "## Cleaning up\n",
    "\n",
    "\n"
   ]
  },
  {
   "cell_type": "raw",
   "id": "3232d90e-2c2e-48df-a9f5-e43f4ab2aa5e",
   "metadata": {},
   "source": [
    "# Delete the training job\n",
    "job.delete()\n",
    "\n",
    "# Delete the model\n",
    "model.delete()\n",
    "\n"
   ]
  },
  {
   "cell_type": "code",
   "execution_count": null,
   "id": "4f39a81b-e418-4362-8766-5ae2f3f9e501",
   "metadata": {},
   "outputs": [],
   "source": []
  }
 ],
 "metadata": {
  "environment": {
   "name": "common-cpu.m80",
   "type": "gcloud",
   "uri": "gcr.io/deeplearning-platform-release/base-cpu:m80"
  },
  "kernelspec": {
   "display_name": "Python 3",
   "language": "python",
   "name": "python3"
  },
  "language_info": {
   "codemirror_mode": {
    "name": "ipython",
    "version": 3
   },
   "file_extension": ".py",
   "mimetype": "text/x-python",
   "name": "python",
   "nbconvert_exporter": "python",
   "pygments_lexer": "ipython3",
   "version": "3.7.10"
  }
 },
 "nbformat": 4,
 "nbformat_minor": 5
}
