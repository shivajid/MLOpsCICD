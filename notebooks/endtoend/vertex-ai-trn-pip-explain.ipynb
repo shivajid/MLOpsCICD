{
 "cells": [
  {
   "cell_type": "code",
   "execution_count": 77,
   "id": "dab60d19-91a2-4451-a546-b2ed28dd3589",
   "metadata": {},
   "outputs": [],
   "source": [
    "# Import python modules\n",
    "import tensorflow \n",
    "from tensorflow import keras\n",
    "from tensorflow.keras.models import Sequential\n",
    "from tensorflow.keras.layers import Dense\n",
    "from tensorflow.keras.layers import Dropout\n",
    "from tensorflow.keras.optimizers import Adam\n",
    "from tensorflow.keras.utils import to_categorical\n",
    "import keras_tuner \n",
    "from google.cloud import aiplatform\n",
    "\n",
    "from sklearn.model_selection import train_test_split\n",
    "from sklearn.preprocessing import StandardScaler\n",
    "\n",
    "import numpy as np\n",
    "import pandas as pd\n",
    "import json, os"
   ]
  },
  {
   "cell_type": "code",
   "execution_count": 78,
   "id": "c3a85e66-5b6f-49b9-857c-2cb80d3ee3ef",
   "metadata": {},
   "outputs": [],
   "source": [
    "# Declare variables\n",
    "REGION = \"us-central1\"\n",
    "PROJECT_ID = !(gcloud config get-value core/project)\n",
    "PROJECT_ID = PROJECT_ID[0]\n",
    "MODEL_PATH='gs://level300/model/'\n",
    "DATASET_PATH='gs://level300/area_cover_dataset.csv'\n",
    "PIPELINE_ROOT = 'gs://level300'\n",
    "MODEL_ARTIFACTS_LOCATION ='gs://level300/artifact'\n",
    "BUCKET_NAME=\"gs://level300/\""
   ]
  },
  {
   "cell_type": "code",
   "execution_count": null,
   "id": "41369489-be18-49d4-9d3b-15709da193d8",
   "metadata": {},
   "outputs": [],
   "source": []
  },
  {
   "cell_type": "code",
   "execution_count": 235,
   "id": "42396aa8-ca07-4aa2-9301-0ac8e8e700e2",
   "metadata": {},
   "outputs": [],
   "source": [
    "# Read the area_cover_dataset csv data into pandas dataframe\n",
    "area_cover_dataframe = pd.read_csv(DATASET_PATH)\n"
   ]
  },
  {
   "cell_type": "markdown",
   "id": "d07eb6c2-d7e1-4075-aff1-f2c6582a8bc7",
   "metadata": {},
   "source": [
    "**Task 4** Create the function that converts categorical data to indexed integer values"
   ]
  },
  {
   "cell_type": "code",
   "execution_count": 11,
   "id": "a69b1f16-7bc9-4510-bcf6-9f1df32d418f",
   "metadata": {},
   "outputs": [
    {
     "data": {
      "text/plain": [
       "Index(['Elevation', 'Aspect', 'Slope', 'Horizontal_Distance_To_Hydrology',\n",
       "       'Vertical_Distance_To_Hydrology', 'Horizontal_Distance_To_Roadways',\n",
       "       'Hillshade_9am', 'Hillshade_Noon', 'Hillshade_3pm',\n",
       "       'Horizontal_Distance_To_Fire_Points', 'Wilderness_Area', 'Soil_Type',\n",
       "       'Area_Cover'],\n",
       "      dtype='object')"
      ]
     },
     "execution_count": 11,
     "metadata": {},
     "output_type": "execute_result"
    }
   ],
   "source": [
    "area_cover_dataframe.columns"
   ]
  },
  {
   "cell_type": "code",
   "execution_count": 12,
   "id": "2e0cab80-1349-4ed4-b067-2107bdadf9d4",
   "metadata": {},
   "outputs": [
    {
     "data": {
      "text/html": [
       "<div>\n",
       "<style scoped>\n",
       "    .dataframe tbody tr th:only-of-type {\n",
       "        vertical-align: middle;\n",
       "    }\n",
       "\n",
       "    .dataframe tbody tr th {\n",
       "        vertical-align: top;\n",
       "    }\n",
       "\n",
       "    .dataframe thead th {\n",
       "        text-align: right;\n",
       "    }\n",
       "</style>\n",
       "<table border=\"1\" class=\"dataframe\">\n",
       "  <thead>\n",
       "    <tr style=\"text-align: right;\">\n",
       "      <th></th>\n",
       "      <th>Elevation</th>\n",
       "      <th>Aspect</th>\n",
       "      <th>Slope</th>\n",
       "      <th>Horizontal_Distance_To_Hydrology</th>\n",
       "      <th>Vertical_Distance_To_Hydrology</th>\n",
       "      <th>Horizontal_Distance_To_Roadways</th>\n",
       "      <th>Hillshade_9am</th>\n",
       "      <th>Hillshade_Noon</th>\n",
       "      <th>Hillshade_3pm</th>\n",
       "      <th>Horizontal_Distance_To_Fire_Points</th>\n",
       "      <th>Wilderness_Area</th>\n",
       "      <th>Soil_Type</th>\n",
       "      <th>Area_Cover</th>\n",
       "    </tr>\n",
       "  </thead>\n",
       "  <tbody>\n",
       "    <tr>\n",
       "      <th>0</th>\n",
       "      <td>3142</td>\n",
       "      <td>183</td>\n",
       "      <td>9</td>\n",
       "      <td>648</td>\n",
       "      <td>101</td>\n",
       "      <td>757</td>\n",
       "      <td>223</td>\n",
       "      <td>247</td>\n",
       "      <td>157</td>\n",
       "      <td>1871</td>\n",
       "      <td>Commanche</td>\n",
       "      <td>C7757</td>\n",
       "      <td>1</td>\n",
       "    </tr>\n",
       "    <tr>\n",
       "      <th>1</th>\n",
       "      <td>2156</td>\n",
       "      <td>18</td>\n",
       "      <td>28</td>\n",
       "      <td>0</td>\n",
       "      <td>0</td>\n",
       "      <td>1207</td>\n",
       "      <td>187</td>\n",
       "      <td>170</td>\n",
       "      <td>107</td>\n",
       "      <td>960</td>\n",
       "      <td>Cache</td>\n",
       "      <td>C6102</td>\n",
       "      <td>3</td>\n",
       "    </tr>\n",
       "    <tr>\n",
       "      <th>2</th>\n",
       "      <td>1967</td>\n",
       "      <td>124</td>\n",
       "      <td>16</td>\n",
       "      <td>60</td>\n",
       "      <td>9</td>\n",
       "      <td>124</td>\n",
       "      <td>245</td>\n",
       "      <td>227</td>\n",
       "      <td>105</td>\n",
       "      <td>451</td>\n",
       "      <td>Cache</td>\n",
       "      <td>C2704</td>\n",
       "      <td>2</td>\n",
       "    </tr>\n",
       "    <tr>\n",
       "      <th>3</th>\n",
       "      <td>3237</td>\n",
       "      <td>305</td>\n",
       "      <td>15</td>\n",
       "      <td>663</td>\n",
       "      <td>19</td>\n",
       "      <td>3593</td>\n",
       "      <td>178</td>\n",
       "      <td>231</td>\n",
       "      <td>193</td>\n",
       "      <td>1260</td>\n",
       "      <td>Commanche</td>\n",
       "      <td>C7201</td>\n",
       "      <td>0</td>\n",
       "    </tr>\n",
       "    <tr>\n",
       "      <th>4</th>\n",
       "      <td>2981</td>\n",
       "      <td>221</td>\n",
       "      <td>18</td>\n",
       "      <td>150</td>\n",
       "      <td>14</td>\n",
       "      <td>4584</td>\n",
       "      <td>195</td>\n",
       "      <td>254</td>\n",
       "      <td>191</td>\n",
       "      <td>1822</td>\n",
       "      <td>Rawah</td>\n",
       "      <td>C7745</td>\n",
       "      <td>0</td>\n",
       "    </tr>\n",
       "  </tbody>\n",
       "</table>\n",
       "</div>"
      ],
      "text/plain": [
       "   Elevation  Aspect  Slope  Horizontal_Distance_To_Hydrology  \\\n",
       "0       3142     183      9                               648   \n",
       "1       2156      18     28                                 0   \n",
       "2       1967     124     16                                60   \n",
       "3       3237     305     15                               663   \n",
       "4       2981     221     18                               150   \n",
       "\n",
       "   Vertical_Distance_To_Hydrology  Horizontal_Distance_To_Roadways  \\\n",
       "0                             101                              757   \n",
       "1                               0                             1207   \n",
       "2                               9                              124   \n",
       "3                              19                             3593   \n",
       "4                              14                             4584   \n",
       "\n",
       "   Hillshade_9am  Hillshade_Noon  Hillshade_3pm  \\\n",
       "0            223             247            157   \n",
       "1            187             170            107   \n",
       "2            245             227            105   \n",
       "3            178             231            193   \n",
       "4            195             254            191   \n",
       "\n",
       "   Horizontal_Distance_To_Fire_Points Wilderness_Area Soil_Type  Area_Cover  \n",
       "0                                1871       Commanche     C7757           1  \n",
       "1                                 960           Cache     C6102           3  \n",
       "2                                 451           Cache     C2704           2  \n",
       "3                                1260       Commanche     C7201           0  \n",
       "4                                1822           Rawah     C7745           0  "
      ]
     },
     "execution_count": 12,
     "metadata": {},
     "output_type": "execute_result"
    }
   ],
   "source": [
    "area_cover_dataframe.head()"
   ]
  },
  {
   "cell_type": "code",
   "execution_count": 13,
   "id": "11337b11-3e3d-4885-ad9f-5f04ef4b4ef9",
   "metadata": {},
   "outputs": [
    {
     "data": {
      "text/html": [
       "<div>\n",
       "<style scoped>\n",
       "    .dataframe tbody tr th:only-of-type {\n",
       "        vertical-align: middle;\n",
       "    }\n",
       "\n",
       "    .dataframe tbody tr th {\n",
       "        vertical-align: top;\n",
       "    }\n",
       "\n",
       "    .dataframe thead th {\n",
       "        text-align: right;\n",
       "    }\n",
       "</style>\n",
       "<table border=\"1\" class=\"dataframe\">\n",
       "  <thead>\n",
       "    <tr style=\"text-align: right;\">\n",
       "      <th></th>\n",
       "      <th>Elevation</th>\n",
       "      <th>Aspect</th>\n",
       "      <th>Slope</th>\n",
       "      <th>Horizontal_Distance_To_Hydrology</th>\n",
       "      <th>Vertical_Distance_To_Hydrology</th>\n",
       "      <th>Horizontal_Distance_To_Roadways</th>\n",
       "      <th>Hillshade_9am</th>\n",
       "      <th>Hillshade_Noon</th>\n",
       "      <th>Hillshade_3pm</th>\n",
       "      <th>Horizontal_Distance_To_Fire_Points</th>\n",
       "      <th>Area_Cover</th>\n",
       "    </tr>\n",
       "  </thead>\n",
       "  <tbody>\n",
       "    <tr>\n",
       "      <th>count</th>\n",
       "      <td>100000.000000</td>\n",
       "      <td>100000.000000</td>\n",
       "      <td>100000.000000</td>\n",
       "      <td>100000.000000</td>\n",
       "      <td>100000.000000</td>\n",
       "      <td>100000.0000</td>\n",
       "      <td>100000.000000</td>\n",
       "      <td>100000.000000</td>\n",
       "      <td>100000.000000</td>\n",
       "      <td>100000.000000</td>\n",
       "      <td>100000.000000</td>\n",
       "    </tr>\n",
       "    <tr>\n",
       "      <th>mean</th>\n",
       "      <td>2959.207290</td>\n",
       "      <td>155.392240</td>\n",
       "      <td>14.081810</td>\n",
       "      <td>268.669520</td>\n",
       "      <td>46.198330</td>\n",
       "      <td>2353.9479</td>\n",
       "      <td>212.174850</td>\n",
       "      <td>223.310280</td>\n",
       "      <td>142.503660</td>\n",
       "      <td>1979.001530</td>\n",
       "      <td>1.051480</td>\n",
       "    </tr>\n",
       "    <tr>\n",
       "      <th>std</th>\n",
       "      <td>280.355661</td>\n",
       "      <td>111.882118</td>\n",
       "      <td>7.469318</td>\n",
       "      <td>212.210338</td>\n",
       "      <td>57.730711</td>\n",
       "      <td>1560.1382</td>\n",
       "      <td>26.741464</td>\n",
       "      <td>19.758315</td>\n",
       "      <td>38.153698</td>\n",
       "      <td>1325.086691</td>\n",
       "      <td>1.396506</td>\n",
       "    </tr>\n",
       "    <tr>\n",
       "      <th>min</th>\n",
       "      <td>1859.000000</td>\n",
       "      <td>0.000000</td>\n",
       "      <td>0.000000</td>\n",
       "      <td>0.000000</td>\n",
       "      <td>-166.000000</td>\n",
       "      <td>0.0000</td>\n",
       "      <td>0.000000</td>\n",
       "      <td>0.000000</td>\n",
       "      <td>0.000000</td>\n",
       "      <td>0.000000</td>\n",
       "      <td>0.000000</td>\n",
       "    </tr>\n",
       "    <tr>\n",
       "      <th>25%</th>\n",
       "      <td>2810.000000</td>\n",
       "      <td>58.000000</td>\n",
       "      <td>9.000000</td>\n",
       "      <td>108.000000</td>\n",
       "      <td>7.000000</td>\n",
       "      <td>1106.0000</td>\n",
       "      <td>198.000000</td>\n",
       "      <td>213.000000</td>\n",
       "      <td>119.000000</td>\n",
       "      <td>1022.000000</td>\n",
       "      <td>0.000000</td>\n",
       "    </tr>\n",
       "    <tr>\n",
       "      <th>50%</th>\n",
       "      <td>2996.000000</td>\n",
       "      <td>127.000000</td>\n",
       "      <td>13.000000</td>\n",
       "      <td>218.000000</td>\n",
       "      <td>29.000000</td>\n",
       "      <td>1998.0000</td>\n",
       "      <td>218.000000</td>\n",
       "      <td>226.000000</td>\n",
       "      <td>143.000000</td>\n",
       "      <td>1710.000000</td>\n",
       "      <td>1.000000</td>\n",
       "    </tr>\n",
       "    <tr>\n",
       "      <th>75%</th>\n",
       "      <td>3163.000000</td>\n",
       "      <td>260.000000</td>\n",
       "      <td>18.000000</td>\n",
       "      <td>384.000000</td>\n",
       "      <td>68.000000</td>\n",
       "      <td>3333.0000</td>\n",
       "      <td>231.000000</td>\n",
       "      <td>237.000000</td>\n",
       "      <td>168.000000</td>\n",
       "      <td>2549.000000</td>\n",
       "      <td>1.000000</td>\n",
       "    </tr>\n",
       "    <tr>\n",
       "      <th>max</th>\n",
       "      <td>3857.000000</td>\n",
       "      <td>360.000000</td>\n",
       "      <td>65.000000</td>\n",
       "      <td>1397.000000</td>\n",
       "      <td>601.000000</td>\n",
       "      <td>7078.0000</td>\n",
       "      <td>254.000000</td>\n",
       "      <td>254.000000</td>\n",
       "      <td>253.000000</td>\n",
       "      <td>7150.000000</td>\n",
       "      <td>6.000000</td>\n",
       "    </tr>\n",
       "  </tbody>\n",
       "</table>\n",
       "</div>"
      ],
      "text/plain": [
       "           Elevation         Aspect          Slope  \\\n",
       "count  100000.000000  100000.000000  100000.000000   \n",
       "mean     2959.207290     155.392240      14.081810   \n",
       "std       280.355661     111.882118       7.469318   \n",
       "min      1859.000000       0.000000       0.000000   \n",
       "25%      2810.000000      58.000000       9.000000   \n",
       "50%      2996.000000     127.000000      13.000000   \n",
       "75%      3163.000000     260.000000      18.000000   \n",
       "max      3857.000000     360.000000      65.000000   \n",
       "\n",
       "       Horizontal_Distance_To_Hydrology  Vertical_Distance_To_Hydrology  \\\n",
       "count                     100000.000000                   100000.000000   \n",
       "mean                         268.669520                       46.198330   \n",
       "std                          212.210338                       57.730711   \n",
       "min                            0.000000                     -166.000000   \n",
       "25%                          108.000000                        7.000000   \n",
       "50%                          218.000000                       29.000000   \n",
       "75%                          384.000000                       68.000000   \n",
       "max                         1397.000000                      601.000000   \n",
       "\n",
       "       Horizontal_Distance_To_Roadways  Hillshade_9am  Hillshade_Noon  \\\n",
       "count                      100000.0000  100000.000000   100000.000000   \n",
       "mean                         2353.9479     212.174850      223.310280   \n",
       "std                          1560.1382      26.741464       19.758315   \n",
       "min                             0.0000       0.000000        0.000000   \n",
       "25%                          1106.0000     198.000000      213.000000   \n",
       "50%                          1998.0000     218.000000      226.000000   \n",
       "75%                          3333.0000     231.000000      237.000000   \n",
       "max                          7078.0000     254.000000      254.000000   \n",
       "\n",
       "       Hillshade_3pm  Horizontal_Distance_To_Fire_Points     Area_Cover  \n",
       "count  100000.000000                       100000.000000  100000.000000  \n",
       "mean      142.503660                         1979.001530       1.051480  \n",
       "std        38.153698                         1325.086691       1.396506  \n",
       "min         0.000000                            0.000000       0.000000  \n",
       "25%       119.000000                         1022.000000       0.000000  \n",
       "50%       143.000000                         1710.000000       1.000000  \n",
       "75%       168.000000                         2549.000000       1.000000  \n",
       "max       253.000000                         7150.000000       6.000000  "
      ]
     },
     "execution_count": 13,
     "metadata": {},
     "output_type": "execute_result"
    }
   ],
   "source": [
    "area_cover_dataframe.describe()"
   ]
  },
  {
   "cell_type": "code",
   "execution_count": 14,
   "id": "ec768e48-d918-482b-992c-54a5996c5171",
   "metadata": {},
   "outputs": [
    {
     "name": "stdout",
     "output_type": "stream",
     "text": [
      "<class 'pandas.core.frame.DataFrame'>\n",
      "RangeIndex: 100000 entries, 0 to 99999\n",
      "Data columns (total 13 columns):\n",
      " #   Column                              Non-Null Count   Dtype \n",
      "---  ------                              --------------   ----- \n",
      " 0   Elevation                           100000 non-null  int64 \n",
      " 1   Aspect                              100000 non-null  int64 \n",
      " 2   Slope                               100000 non-null  int64 \n",
      " 3   Horizontal_Distance_To_Hydrology    100000 non-null  int64 \n",
      " 4   Vertical_Distance_To_Hydrology      100000 non-null  int64 \n",
      " 5   Horizontal_Distance_To_Roadways     100000 non-null  int64 \n",
      " 6   Hillshade_9am                       100000 non-null  int64 \n",
      " 7   Hillshade_Noon                      100000 non-null  int64 \n",
      " 8   Hillshade_3pm                       100000 non-null  int64 \n",
      " 9   Horizontal_Distance_To_Fire_Points  100000 non-null  int64 \n",
      " 10  Wilderness_Area                     100000 non-null  object\n",
      " 11  Soil_Type                           100000 non-null  object\n",
      " 12  Area_Cover                          100000 non-null  int64 \n",
      "dtypes: int64(11), object(2)\n",
      "memory usage: 9.9+ MB\n"
     ]
    }
   ],
   "source": [
    "area_cover_dataframe.info()"
   ]
  },
  {
   "cell_type": "code",
   "execution_count": null,
   "id": "fb36cff0-afdd-481c-851f-b4a432c6dd80",
   "metadata": {},
   "outputs": [],
   "source": []
  },
  {
   "cell_type": "code",
   "execution_count": 15,
   "id": "3366096e-59f4-49bb-86b6-84690655d025",
   "metadata": {},
   "outputs": [
    {
     "data": {
      "text/plain": [
       "array(['C7757', 'C6102', 'C2704', 'C7201', 'C7745', 'C7202', 'C7102',\n",
       "       'C8772', 'C6731', 'C4703', 'C4744', 'C2702', 'C7746', 'C2703',\n",
       "       'C7755', 'C4758', 'C7756', 'C8771', 'C8776', 'C7700', 'C6101',\n",
       "       'C4704', 'C7702', 'C4201', 'C2717', 'C2705', 'C7709', 'C7790',\n",
       "       'C5101', 'C7103', 'C7710', 'C7101', 'C3502', 'C8703', 'C2706',\n",
       "       'C8708', 'C7701', 'C8707', 'C3501', 'C5151'], dtype=object)"
      ]
     },
     "execution_count": 15,
     "metadata": {},
     "output_type": "execute_result"
    }
   ],
   "source": [
    "area_cover_dataframe[\"Soil_Type\"].unique()"
   ]
  },
  {
   "cell_type": "code",
   "execution_count": 16,
   "id": "9d139dc5-91d9-4be8-98c0-34eee9ea8a51",
   "metadata": {},
   "outputs": [],
   "source": [
    "wild_colums = pd.get_dummies(area_cover_dataframe[\"Wilderness_Area\"])"
   ]
  },
  {
   "cell_type": "code",
   "execution_count": 17,
   "id": "b4d5ba2f-04ed-4b85-a397-3acd1234dce4",
   "metadata": {},
   "outputs": [],
   "source": [
    "backup_area_cover_dataframe = pd.read_csv(DATASET_PATH)"
   ]
  },
  {
   "cell_type": "code",
   "execution_count": 18,
   "id": "40568629-f82d-44e7-8eaa-bc1aee090852",
   "metadata": {},
   "outputs": [
    {
     "data": {
      "text/plain": [
       "Index(['Elevation', 'Aspect', 'Slope', 'Horizontal_Distance_To_Hydrology',\n",
       "       'Vertical_Distance_To_Hydrology', 'Horizontal_Distance_To_Roadways',\n",
       "       'Hillshade_9am', 'Hillshade_Noon', 'Hillshade_3pm',\n",
       "       'Horizontal_Distance_To_Fire_Points', 'Wilderness_Area', 'Soil_Type',\n",
       "       'Area_Cover'],\n",
       "      dtype='object')"
      ]
     },
     "execution_count": 18,
     "metadata": {},
     "output_type": "execute_result"
    }
   ],
   "source": [
    "backup_area_cover_dataframe.columns"
   ]
  },
  {
   "cell_type": "code",
   "execution_count": 86,
   "id": "100ba233-6650-4b05-b832-d846609f86d3",
   "metadata": {},
   "outputs": [],
   "source": [
    "# Function that takes the area cover dataframe and converts the two categorical (string) columns into indexed values\n",
    "def index(dataframe):\n",
    "  wild_columns = pd.get_dummies(dataframe[\"Wilderness_Area\"])\n",
    "  soil_columns= pd.get_dummies(dataframe[\"Soil_Type\"])\n",
    "  dataframe.drop(['Wilderness_Area', 'Soil_Type'], axis=1, inplace=True)\n",
    "  dataframe = pd.concat([dataframe, wild_columns, soil_columns], axis='columns')\n",
    "  return dataframe"
   ]
  },
  {
   "cell_type": "markdown",
   "id": "b4fd67b4-142e-4772-9514-97c4ce735a0b",
   "metadata": {},
   "source": [
    "**Task 5** Extract the feature columns and standardize the values"
   ]
  },
  {
   "cell_type": "code",
   "execution_count": 88,
   "id": "c1f4df68-a401-4274-bead-d32ef844377e",
   "metadata": {},
   "outputs": [],
   "source": [
    "# Extract the feature columns into a new dataframe called scaler_features that has been standardized using the sklearn.preprocessing.StandardScaler method.\n",
    "# The features are all columns from the area cover dataset except the \"Area_Cover\" column\n",
    "area_cover_dataframe = pd.read_csv(DATASET_PATH)\n",
    "indexed_dataframe = index(area_cover_dataframe)\n",
    "features_dataframe = indexed_dataframe.drop(\"Area_Cover\", axis = 1)\n",
    "standard_scaler = StandardScaler()\n",
    "\n",
    "scaled_features = standard_scaler.fit_transform(features_dataframe)"
   ]
  },
  {
   "cell_type": "code",
   "execution_count": 89,
   "id": "3a6fd842-bdb3-4d57-9bb4-d89f4ffd9907",
   "metadata": {},
   "outputs": [],
   "source": [
    "#area_cover_dataframe = pd.read_csv(DATASET_PATH)"
   ]
  },
  {
   "cell_type": "code",
   "execution_count": 90,
   "id": "3ae5e492-8eb6-4977-8eb4-014909c12340",
   "metadata": {},
   "outputs": [
    {
     "data": {
      "text/plain": [
       "Index(['Elevation', 'Aspect', 'Slope', 'Horizontal_Distance_To_Hydrology',\n",
       "       'Vertical_Distance_To_Hydrology', 'Horizontal_Distance_To_Roadways',\n",
       "       'Hillshade_9am', 'Hillshade_Noon', 'Hillshade_3pm',\n",
       "       'Horizontal_Distance_To_Fire_Points', 'Area_Cover', 'Cache',\n",
       "       'Commanche', 'Neota', 'Rawah', 'C2702', 'C2703', 'C2704', 'C2705',\n",
       "       'C2706', 'C2717', 'C3501', 'C3502', 'C4201', 'C4703', 'C4704', 'C4744',\n",
       "       'C4758', 'C5101', 'C5151', 'C6101', 'C6102', 'C6731', 'C7101', 'C7102',\n",
       "       'C7103', 'C7201', 'C7202', 'C7700', 'C7701', 'C7702', 'C7709', 'C7710',\n",
       "       'C7745', 'C7746', 'C7755', 'C7756', 'C7757', 'C7790', 'C8703', 'C8707',\n",
       "       'C8708', 'C8771', 'C8772', 'C8776'],\n",
       "      dtype='object')"
      ]
     },
     "execution_count": 90,
     "metadata": {},
     "output_type": "execute_result"
    }
   ],
   "source": [
    "indexed_dataframe.columns"
   ]
  },
  {
   "cell_type": "code",
   "execution_count": 93,
   "id": "6a14905c-16f1-411e-aa27-2c6c99ccaebc",
   "metadata": {},
   "outputs": [
    {
     "data": {
      "text/plain": [
       "(100000, 55)"
      ]
     },
     "execution_count": 93,
     "metadata": {},
     "output_type": "execute_result"
    }
   ],
   "source": [
    "indexed_dataframe.shape"
   ]
  },
  {
   "cell_type": "code",
   "execution_count": 94,
   "id": "a54a73e5-6e5b-4386-aa19-4a4fd6c1f50c",
   "metadata": {},
   "outputs": [
    {
     "data": {
      "text/plain": [
       "11"
      ]
     },
     "execution_count": 94,
     "metadata": {},
     "output_type": "execute_result"
    }
   ],
   "source": [
    "len(area_cover_dataframe.columns)"
   ]
  },
  {
   "cell_type": "code",
   "execution_count": null,
   "id": "38732ad3-8f71-4b7a-867a-26fe42a1022d",
   "metadata": {},
   "outputs": [],
   "source": []
  },
  {
   "cell_type": "code",
   "execution_count": 96,
   "id": "99cccc50-4302-4c5f-9deb-961993a64d5c",
   "metadata": {},
   "outputs": [],
   "source": [
    "# Create a binary matrix containing the categorical Area_Cover column data converted using keras.utils.to_categorical()\n",
    "labels_dataframe = indexed_dataframe[\"Area_Cover\"]\n",
    "categorical_labels = to_categorical(labels_dataframe)"
   ]
  },
  {
   "cell_type": "code",
   "execution_count": 97,
   "id": "7a2e7306-3980-45c5-8cf9-e25879714261",
   "metadata": {},
   "outputs": [],
   "source": [
    "# Split the dataset into model training and validation data\n",
    "dfx_train, dfx_val, dfy_train, dfy_val = train_test_split(scaled_features, categorical_labels, test_size=0.2)"
   ]
  },
  {
   "cell_type": "markdown",
   "id": "2b8e9fab-52e5-47cd-a30a-1ef367cdaff8",
   "metadata": {},
   "source": [
    "**Task 6** Create a function that returns a sequential categorical model function with a hyperparameter tuning layer"
   ]
  },
  {
   "cell_type": "code",
   "execution_count": 98,
   "id": "a92f6c5a-3595-473c-b288-91dcc4fb9649",
   "metadata": {},
   "outputs": [],
   "source": [
    "import pickle"
   ]
  },
  {
   "cell_type": "code",
   "execution_count": 99,
   "id": "513b1a61-3b1f-4778-b122-d096cc78755c",
   "metadata": {},
   "outputs": [],
   "source": [
    "with open(\"dfx_train\", \"wb\") as f:\n",
    "    pickle.dump( dfx_train,f)\n",
    "    \n",
    "with open(\"dfx_val\", \"wb\") as f:\n",
    "    pickle.dump( dfx_val,f)\n",
    "with open(\"dfy_train\", \"wb\") as f:\n",
    "    pickle.dump( dfy_train,f)\n",
    "with open(\"dfy_val\", \"wb\") as f:\n",
    "    pickle.dump( dfy_val,f)"
   ]
  },
  {
   "cell_type": "code",
   "execution_count": 100,
   "id": "501648f6-defd-48c0-8ea4-e7133a85cabc",
   "metadata": {},
   "outputs": [],
   "source": [
    "# Create a function that returns a sequential categorical model function with a hyperparameter tuning layer\n",
    "def build_model(hptune):\n",
    "    model = Sequential()\n",
    "    model.add(Dense(32, input_shape = (dfx_train.shape[1],), activation = \"relu\"))\n",
    "    hp_units = hptune.Int('units', min_value=32, max_value=512, step=32)\n",
    "    hp_units_2 = hptune.Int('units_layer2', min_value=512, max_value=1024, step=32)\n",
    "    model.add(keras.layers.Dense(units=hp_units_2, activation=hptune.Choice(\"activation\",['relu','elu'])))\n",
    "    model.add(keras.layers.Dropout(hptune.Choice(\"drop\",[0.2,0.3,0.4,0.5])))\n",
    "    model.add(keras.layers.Dense(7, activation='softmax'))\n",
    "    \n",
    "    hp_learning_rate = hptune.Choice('learning_rate', values=[1e-2, 1e-3, 1e-4])\n",
    "    \n",
    "    model.compile(optimizer=keras.optimizers.Adam(learning_rate=hp_learning_rate),\n",
    "                loss=\"categorical_crossentropy\",\n",
    "                metrics=['accuracy'])\n",
    "\n",
    "    \n",
    "    return model"
   ]
  },
  {
   "cell_type": "markdown",
   "id": "f7e96334-1c5d-4a3e-8163-5dc7aa30025b",
   "metadata": {},
   "source": [
    "**Task 7** Create a Keras Hyperband Hyperparameter tuner with an accuracy objective"
   ]
  },
  {
   "cell_type": "code",
   "execution_count": 101,
   "id": "b1a3d1d0-7b7a-4b92-8c85-e8e33ebcb721",
   "metadata": {},
   "outputs": [
    {
     "name": "stdout",
     "output_type": "stream",
     "text": [
      "INFO:tensorflow:Reloading Oracle from existing project my_dir/demo_my_dir/oracle.json\n",
      "INFO:tensorflow:Reloading Tuner from my_dir/demo_my_dir/tuner0.json\n"
     ]
    },
    {
     "name": "stderr",
     "output_type": "stream",
     "text": [
      "2022-03-24 00:35:04.214396: W tensorflow/stream_executor/platform/default/dso_loader.cc:64] Could not load dynamic library 'libcuda.so.1'; dlerror: libcuda.so.1: cannot open shared object file: No such file or directory; LD_LIBRARY_PATH: /usr/local/cuda/lib64:/usr/local/cuda/lib:/usr/local/lib/x86_64-linux-gnu:/usr/local/nvidia/lib:/usr/local/nvidia/lib64:/usr/local/nvidia/lib:/usr/local/nvidia/lib64\n",
      "2022-03-24 00:35:04.214441: W tensorflow/stream_executor/cuda/cuda_driver.cc:269] failed call to cuInit: UNKNOWN ERROR (303)\n",
      "2022-03-24 00:35:04.214466: I tensorflow/stream_executor/cuda/cuda_diagnostics.cc:156] kernel driver does not appear to be running on this host (vm-91647a6a-1d5b-4686-a7d5-3a015621db67): /proc/driver/nvidia/version does not exist\n",
      "2022-03-24 00:35:04.214817: I tensorflow/core/platform/cpu_feature_guard.cc:151] This TensorFlow binary is optimized with oneAPI Deep Neural Network Library (oneDNN) to use the following CPU instructions in performance-critical operations:  AVX2 FMA\n",
      "To enable them in other operations, rebuild TensorFlow with the appropriate compiler flags.\n"
     ]
    }
   ],
   "source": [
    "# Create a Keras Hyperband Hyperparameter tuner with an accuracy objective\n",
    "\n",
    "#tuner =  [ TODO - Insert your code ]\n",
    "import keras_tuner as kt\n",
    "tuner = kt.Hyperband(build_model,\n",
    "                     objective='val_accuracy',\n",
    "                     max_epochs=10,\n",
    "                     factor=3,\n",
    "                     directory='my_dir',\n",
    "                     project_name='demo_my_dir')"
   ]
  },
  {
   "cell_type": "markdown",
   "id": "d8d4f814-939a-45fd-a232-4bbf18f6e657",
   "metadata": {},
   "source": [
    "**Task 8** Perform Hyperparameter tuning and train the optimal model\n",
    "\n",
    "You do not have to add any of your own code for this task. Run the cells to tune, optimize and train the model. "
   ]
  },
  {
   "cell_type": "code",
   "execution_count": 102,
   "id": "d20fa022-34e6-4002-80fc-bd9891968da5",
   "metadata": {},
   "outputs": [
    {
     "name": "stdout",
     "output_type": "stream",
     "text": [
      "INFO:tensorflow:Oracle triggered exit\n"
     ]
    }
   ],
   "source": [
    "# Define an early stopping callback using that stops when the validation loss quantity does not improve after 5 epochs\n",
    "stop_early = tensorflow.keras.callbacks.EarlyStopping(monitor='val_loss', patience=5)\n",
    "\n",
    "# Perform a Keras Tuner Search for the best hyperparameter configurations using the training data split over 50 epochs\n",
    "tuner.search(dfx_train, dfy_train, epochs=50, validation_split=0.2, callbacks=[stop_early])\n",
    "\n",
    "# Get the optimal hyperparameters for the model as determined from the search\n",
    "best_hyperparameters=tuner.get_best_hyperparameters(num_trials=10)[0]"
   ]
  },
  {
   "cell_type": "code",
   "execution_count": 103,
   "id": "c3872d0f-d519-4836-978f-4fd75caf5eca",
   "metadata": {},
   "outputs": [
    {
     "name": "stdout",
     "output_type": "stream",
     "text": [
      "Epoch 1/10\n",
      "2000/2000 [==============================] - 5s 2ms/step - loss: 0.6720 - accuracy: 0.7140 - val_loss: 0.6107 - val_accuracy: 0.7322\n",
      "Epoch 2/10\n",
      "2000/2000 [==============================] - 4s 2ms/step - loss: 0.5748 - accuracy: 0.7528 - val_loss: 0.5613 - val_accuracy: 0.7565\n",
      "Epoch 3/10\n",
      "2000/2000 [==============================] - 4s 2ms/step - loss: 0.5392 - accuracy: 0.7665 - val_loss: 0.5236 - val_accuracy: 0.7714\n",
      "Epoch 4/10\n",
      "2000/2000 [==============================] - 4s 2ms/step - loss: 0.5106 - accuracy: 0.7790 - val_loss: 0.5054 - val_accuracy: 0.7798\n",
      "Epoch 5/10\n",
      "2000/2000 [==============================] - 4s 2ms/step - loss: 0.4897 - accuracy: 0.7898 - val_loss: 0.4778 - val_accuracy: 0.7951\n",
      "Epoch 6/10\n",
      "2000/2000 [==============================] - 4s 2ms/step - loss: 0.4714 - accuracy: 0.7972 - val_loss: 0.4600 - val_accuracy: 0.8041\n",
      "Epoch 7/10\n",
      "2000/2000 [==============================] - 4s 2ms/step - loss: 0.4532 - accuracy: 0.8061 - val_loss: 0.4508 - val_accuracy: 0.8053\n",
      "Epoch 8/10\n",
      "2000/2000 [==============================] - 4s 2ms/step - loss: 0.4390 - accuracy: 0.8134 - val_loss: 0.4467 - val_accuracy: 0.8088\n",
      "Epoch 9/10\n",
      "2000/2000 [==============================] - 4s 2ms/step - loss: 0.4261 - accuracy: 0.8186 - val_loss: 0.4230 - val_accuracy: 0.8211\n",
      "Epoch 10/10\n",
      "2000/2000 [==============================] - 4s 2ms/step - loss: 0.4149 - accuracy: 0.8232 - val_loss: 0.4214 - val_accuracy: 0.8216\n"
     ]
    }
   ],
   "source": [
    "# Create a new model using the best_hyperparameters and train it. \n",
    "model = tuner.hypermodel.build(best_hyperparameters)\n",
    "history = model.fit(dfx_train, dfy_train, epochs=10, validation_split=0.2)"
   ]
  },
  {
   "cell_type": "code",
   "execution_count": 105,
   "id": "e76a600c-076d-46ec-940e-0e24ad4d215a",
   "metadata": {},
   "outputs": [
    {
     "data": {
      "text/plain": [
       "{'units': 288,\n",
       " 'learning_rate': 0.001,\n",
       " 'drop1': 0.3,\n",
       " 'drop2': 0.2,\n",
       " 'units_layer1': 192,\n",
       " 'units_layer2': 864,\n",
       " 'activation': 'relu',\n",
       " 'drop': 0.2,\n",
       " 'tuner/epochs': 10,\n",
       " 'tuner/initial_epoch': 0,\n",
       " 'tuner/bracket': 0,\n",
       " 'tuner/round': 0}"
      ]
     },
     "execution_count": 105,
     "metadata": {},
     "output_type": "execute_result"
    }
   ],
   "source": [
    "best_hyperparameters.values"
   ]
  },
  {
   "cell_type": "code",
   "execution_count": 106,
   "id": "1e98cdbd-13ce-4abc-abf6-b95e8df87f70",
   "metadata": {},
   "outputs": [
    {
     "name": "stdout",
     "output_type": "stream",
     "text": [
      "Best epoch: 10\n"
     ]
    }
   ],
   "source": [
    "# Using the model training history find and print out the epoch with the best validation accuracy. \n",
    "val_acc_per_epoch = history.history['val_accuracy']\n",
    "best_epoch = val_acc_per_epoch.index(max(val_acc_per_epoch)) + 1\n",
    "print('Best epoch: %d' % (best_epoch,))"
   ]
  },
  {
   "cell_type": "code",
   "execution_count": 107,
   "id": "e47b3543-7e34-4d89-a24c-4bed0fa0f44f",
   "metadata": {},
   "outputs": [
    {
     "name": "stdout",
     "output_type": "stream",
     "text": [
      "625/625 [==============================] - 1s 1ms/step - loss: 0.4198 - accuracy: 0.8245\n",
      "[Model test loss, test accuracy]: [0.41981932520866394, 0.8244500160217285]\n"
     ]
    }
   ],
   "source": [
    "# Print out the Model test loss and test accuracy by evaluating the validation data split. \n",
    "eval_result = model.evaluate(dfx_val, dfy_val)\n",
    "print(\"[Model test loss, test accuracy]:\", eval_result)"
   ]
  },
  {
   "cell_type": "code",
   "execution_count": 108,
   "id": "068eb393-2586-44b8-a407-f3d5f5425bd2",
   "metadata": {},
   "outputs": [
    {
     "name": "stdout",
     "output_type": "stream",
     "text": [
      "Epoch 1/10\n",
      "2000/2000 [==============================] - 5s 2ms/step - loss: 0.6696 - accuracy: 0.7161 - val_loss: 0.6108 - val_accuracy: 0.7323\n",
      "Epoch 2/10\n",
      "2000/2000 [==============================] - 4s 2ms/step - loss: 0.5749 - accuracy: 0.7524 - val_loss: 0.5573 - val_accuracy: 0.7553\n",
      "Epoch 3/10\n",
      "2000/2000 [==============================] - 4s 2ms/step - loss: 0.5326 - accuracy: 0.7689 - val_loss: 0.5157 - val_accuracy: 0.7739\n",
      "Epoch 4/10\n",
      "2000/2000 [==============================] - 4s 2ms/step - loss: 0.5042 - accuracy: 0.7822 - val_loss: 0.4921 - val_accuracy: 0.7868\n",
      "Epoch 5/10\n",
      "2000/2000 [==============================] - 4s 2ms/step - loss: 0.4790 - accuracy: 0.7933 - val_loss: 0.4725 - val_accuracy: 0.7971\n",
      "Epoch 6/10\n",
      "2000/2000 [==============================] - 4s 2ms/step - loss: 0.4591 - accuracy: 0.8040 - val_loss: 0.4625 - val_accuracy: 0.8046\n",
      "Epoch 7/10\n",
      "2000/2000 [==============================] - 4s 2ms/step - loss: 0.4420 - accuracy: 0.8119 - val_loss: 0.4395 - val_accuracy: 0.8138\n",
      "Epoch 8/10\n",
      "2000/2000 [==============================] - 4s 2ms/step - loss: 0.4291 - accuracy: 0.8169 - val_loss: 0.4231 - val_accuracy: 0.8195\n",
      "Epoch 9/10\n",
      "2000/2000 [==============================] - 4s 2ms/step - loss: 0.4156 - accuracy: 0.8240 - val_loss: 0.4256 - val_accuracy: 0.8166\n",
      "Epoch 10/10\n",
      "2000/2000 [==============================] - 4s 2ms/step - loss: 0.4029 - accuracy: 0.8295 - val_loss: 0.4113 - val_accuracy: 0.8226\n"
     ]
    },
    {
     "data": {
      "text/plain": [
       "<keras.callbacks.History at 0x7fcb87be5c10>"
      ]
     },
     "execution_count": 108,
     "metadata": {},
     "output_type": "execute_result"
    }
   ],
   "source": [
    "# Create a new model (hypermodel) using the best_hyperparameters and retrain. \n",
    "hypermodel = tuner.hypermodel.build(best_hyperparameters)\n",
    "# Retrain the model using the number of epochs that was previously determined to be the best. \n",
    "hypermodel.fit(dfx_train, dfy_train, epochs=best_epoch, validation_split=0.2)"
   ]
  },
  {
   "cell_type": "code",
   "execution_count": 111,
   "id": "b58b5c52-354a-4b7d-a114-c05864713f6a",
   "metadata": {},
   "outputs": [
    {
     "name": "stdout",
     "output_type": "stream",
     "text": [
      "625/625 [==============================] - 1s 1ms/step - loss: 0.4127 - accuracy: 0.8224\n",
      "[Hypermodel test loss, test accuracy]: [0.41267162561416626, 0.8223999738693237]\n"
     ]
    }
   ],
   "source": [
    "# Print out the test loss and test accuracy for hypermodel by evaluating the validation data split. \n",
    "eval_result = hypermodel.evaluate(dfx_val, dfy_val)\n",
    "print(\"[Hypermodel test loss, test accuracy]:\", eval_result)"
   ]
  },
  {
   "cell_type": "code",
   "execution_count": 112,
   "id": "5165b086-9077-473c-b6eb-75bfb8fee14d",
   "metadata": {},
   "outputs": [
    {
     "name": "stdout",
     "output_type": "stream",
     "text": [
      "INFO:tensorflow:Assets written to: gs://level300/model/assets\n"
     ]
    }
   ],
   "source": [
    "# Save the hypertuned model\n",
    "# NB the MODEL_PATH bucket must be created before this will succeed and it must be in the same location as the model.\n",
    "# e.g. gsutil mb -l us-central1  gs://${PROJECT_ID}-bucket\n",
    "hypermodel.save(MODEL_PATH)"
   ]
  },
  {
   "cell_type": "markdown",
   "id": "aa48c72f-8554-4e5d-91c6-b3a3c76bf0ee",
   "metadata": {},
   "source": [
    "**Task 9** Create a Custom Container for Vertex AI pipeline model training\n",
    "1. Create a Python model trainer module using the above code\n",
    "2. Save the code as `model.py` in the `model/trainer` beneath the current working directory for this notebook\n",
    "3. Make sure you set the Project ID correctly in the Python script. \n",
    "4. Create the Dockerfile definition in the `model/` directory for your custom training container using the `gcr.io/deeplearning-platform-release/tf2-cpu.2-6` base container image\n",
    "\n",
    "Once you have prepared the custom container Python module code and Dockerfile you can build and test the custom container. "
   ]
  },
  {
   "cell_type": "code",
   "execution_count": 113,
   "id": "7cba052c-3691-42ce-85e7-5a482226c434",
   "metadata": {},
   "outputs": [
    {
     "name": "stdout",
     "output_type": "stream",
     "text": [
      "mkdir: cannot create directory ‘trainer’: File exists\n"
     ]
    }
   ],
   "source": [
    "!mkdir trainer"
   ]
  },
  {
   "cell_type": "raw",
   "id": "41375feb-c669-4ffd-81cb-1908fd3a29e5",
   "metadata": {},
   "source": [
    "{'units': 288,\n",
    " 'learning_rate': 0.001,\n",
    " 'drop1': 0.3,\n",
    " 'drop2': 0.2,\n",
    " 'units_layer1': 192,\n",
    " 'units_layer2': 864,\n",
    " 'activation': 'relu',\n",
    " 'drop': 0.2,\n",
    " 'tuner/epochs': 10,\n",
    " 'tuner/initial_epoch': 0,\n",
    " 'tuner/bracket': 0,\n",
    " 'tuner/round': 0}"
   ]
  },
  {
   "cell_type": "code",
   "execution_count": 185,
   "id": "644dc930-fac7-41b8-931f-655ff88019d1",
   "metadata": {},
   "outputs": [
    {
     "name": "stdout",
     "output_type": "stream",
     "text": [
      "Overwriting task.py\n"
     ]
    }
   ],
   "source": [
    "%%writefile task.py\n",
    "import tensorflow \n",
    "import tensorflow as tf\n",
    "from tensorflow import keras\n",
    "from tensorflow.keras.models import Sequential\n",
    "from tensorflow.keras.layers import Dense\n",
    "from tensorflow.keras.layers import Dropout\n",
    "from tensorflow.keras.optimizers import Adam\n",
    "from tensorflow.keras.utils import to_categorical\n",
    "#from google.cloud import aiplatform\n",
    "import argparse\n",
    "from sklearn.model_selection import train_test_split\n",
    "from sklearn.preprocessing import StandardScaler\n",
    "\n",
    "import numpy as np\n",
    "import pandas as pd\n",
    "import json, os\n",
    "\n",
    "REGION = \"us-central1\"\n",
    "PROJECT_ID = \"demogct\"\n",
    "PROJECT_ID = PROJECT_ID[0]\n",
    "MODEL_PATH=os.getenv(\"AIP_MODEL_DIR\")\n",
    "DATASET_PATH='gs://level300/area_cover_dataset.csv'\n",
    "PIPELINE_ROOT = 'gs://level300'\n",
    "MODEL_ARTIFACTS_LOCATION ='gs://level300/artifact'\n",
    "BUCKET_NAME=\"gs://level300/\"\n",
    "\n",
    "\n",
    "parser = argparse.ArgumentParser()\n",
    "parser.add_argument('--epochs', dest='epochs',\n",
    "                    default=200, type=int,\n",
    "                    help='Number of epochs.')\n",
    "parser.add_argument('--steps', dest='steps',\n",
    "                    default=200, type=int,\n",
    "                    help='Number of steps per epoch.')\n",
    "parser.add_argument('--distribute', dest='distribute', type=str, default='single',\n",
    "                    help='distributed training strategy')\n",
    "args = parser.parse_args()\n",
    "\n",
    "\n",
    "\n",
    "## Build Dataframe\n",
    "area_cover_dataframe = pd.read_csv(DATASET_PATH)\n",
    "# Function that takes the area cover dataframe and converts the two categorical (string) columns into indexed values\n",
    "def index(dataframe):\n",
    "  wild_columns = pd.get_dummies(dataframe[\"Wilderness_Area\"])\n",
    "  Soil_Type= pd.get_dummies(dataframe[\"Soil_Type\"])\n",
    "  dataframe.drop(['Wilderness_Area', 'Soil_Type'], axis=1, inplace=True)\n",
    "  dataframe = pd.concat([dataframe, wild_columns, Soil_Type], axis='columns')\n",
    "  return dataframe\n",
    "\n",
    "indexed_dataframe = index(area_cover_dataframe)\n",
    "features_dataframe = indexed_dataframe.drop(\"Area_Cover\", axis = 1)\n",
    "standard_scaler = StandardScaler()\n",
    "\n",
    "scaled_features = standard_scaler.fit_transform(features_dataframe)\n",
    "labels_dataframe = indexed_dataframe[\"Area_Cover\"]\n",
    "categorical_labels = to_categorical(labels_dataframe)\n",
    "dfx_train, dfx_val, dfy_train, dfy_val = train_test_split(scaled_features, categorical_labels, test_size=0.2)\n",
    "tensorboard_callback = tf.keras.callbacks.TensorBoard(log_dir=os.environ['AIP_TENSORBOARD_LOG_DIR'])\n",
    "\n",
    "### Build Model\n",
    "\n",
    "model = Sequential()\n",
    "model.add(Dense(32, input_shape = (dfx_train.shape[1],), activation = \"relu\"))\n",
    "model.add(keras.layers.Dense(units=192, activation=\"relu\"))\n",
    "model.add(keras.layers.Dropout(0.3))\n",
    "model.add(keras.layers.Dense(units=864, activation=\"relu\"))\n",
    "model.add(keras.layers.Dropout(0.2))\n",
    "model.add(keras.layers.Dense(7, activation='softmax'))\n",
    "    \n",
    "model.compile(optimizer=keras.optimizers.Adam(0.001),\n",
    "                loss=\"categorical_crossentropy\",   \n",
    "                metrics=['accuracy'])\n",
    "\n",
    "model.fit(dfx_train, dfy_train, epochs=197, validation_split=0.2)   \n",
    "\n",
    "#Save Model\n",
    "model.save(MODEL_PATH)"
   ]
  },
  {
   "cell_type": "code",
   "execution_count": 269,
   "id": "3b6cd133-9a61-4c19-8034-f84121ddc46d",
   "metadata": {},
   "outputs": [
    {
     "name": "stdout",
     "output_type": "stream",
     "text": [
      "Train machine type n1-standard-16\n",
      "Deploy machine type n1-standard-4\n"
     ]
    }
   ],
   "source": [
    "import numpy as np\n",
    "from datetime import datetime\n",
    "\n",
    "import os\n",
    "import sys\n",
    "\n",
    "#Vertex SDK\n",
    "from google.cloud import aiplatform\n",
    "from google.cloud.aiplatform import gapic as aip\n",
    "\n",
    "aiplatform.init(project=PROJECT_ID, location=REGION, staging_bucket=BUCKET_NAME)\n",
    "\n",
    "TIMESTAMP = datetime.now().strftime(\"%Y%m%d%H%M%S\")\n",
    "\n",
    "JOB_NAME = \"exam_custom_job_\" + TIMESTAMP\n",
    "MODEL_DIR = \"{}/{}\".format(BUCKET_NAME, JOB_NAME)\n",
    "\n",
    "MACHINE_TYPE = \"n1-standard\"\n",
    "\n",
    "VCPU = \"16\"\n",
    "TRAIN_COMPUTE = MACHINE_TYPE + \"-\" + VCPU\n",
    "print(\"Train machine type\", TRAIN_COMPUTE)\n",
    "\n",
    "MACHINE_TYPE = \"n1-standard\"\n",
    "\n",
    "VCPU = \"4\"\n",
    "DEPLOY_COMPUTE = MACHINE_TYPE + \"-\" + VCPU\n",
    "print(\"Deploy machine type\", DEPLOY_COMPUTE)\n",
    "\n",
    "TRAIN_GPU, TRAIN_NGPU = (aip.AcceleratorType.NVIDIA_TESLA_K80, 2)\n",
    "\n",
    "DEPLOY_GPU, DEPLOY_NGPU = (aip.AcceleratorType.NVIDIA_TESLA_K80, 1)\n",
    "\n",
    "\n",
    "if not TRAIN_NGPU or TRAIN_NGPU < 2:\n",
    "    TRAIN_STRATEGY = \"single\"\n",
    "else:\n",
    "    TRAIN_STRATEGY = \"mirror\"\n",
    "\n",
    "EPOCHS = 20\n",
    "STEPS = 100\n",
    "lr = 0.0001\n",
    "\n",
    "CMDARGS = [\n",
    "    \"--epochs=\" + str(EPOCHS),\n",
    "    \"--steps=\" + str(STEPS),\n",
    "    \"--distribute=\" + TRAIN_STRATEGY,\n",
    "]\n"
   ]
  },
  {
   "cell_type": "code",
   "execution_count": 116,
   "id": "8752898e-d2d3-479a-b699-36b438a6cc13",
   "metadata": {},
   "outputs": [],
   "source": [
    "# Build the container using the following gcr.io tag\n",
    "TRAIN_IMAGE=\"gcr.io/{}/tensorflow:latest\".format(PROJECT_ID)\n",
    "#!docker build ~/model/. -t $IMAGE_URI"
   ]
  },
  {
   "cell_type": "code",
   "execution_count": 117,
   "id": "a93b3e00-773e-48c1-bca0-d53b0cd60fa9",
   "metadata": {},
   "outputs": [],
   "source": [
    "# Run the docker image locally to test it\n",
    "#!docker run $IMAGE_URI"
   ]
  },
  {
   "cell_type": "code",
   "execution_count": 118,
   "id": "85aba246-f866-49d6-b1ab-1a752ede3d80",
   "metadata": {},
   "outputs": [],
   "source": [
    "# Push the docker image to the Google container registry\n",
    "#!docker push $IMAGE_URI"
   ]
  },
  {
   "cell_type": "markdown",
   "id": "f7be8704-3035-4a6d-8669-47dd87281f1b",
   "metadata": {},
   "source": [
    "https://google-cloud-pipeline-components.readthedocs.io/en/google-cloud-pipeline-components-1.0.1/google_cloud_pipeline_components.aiplatform.html"
   ]
  },
  {
   "cell_type": "code",
   "execution_count": 187,
   "id": "4e8ab7ea-6f66-465b-817f-bb9a7be56a13",
   "metadata": {},
   "outputs": [
    {
     "name": "stdout",
     "output_type": "stream",
     "text": [
      "Training: gcr.io/cloud-aiplatform/training/tf-gpu.2-1:latest AcceleratorType.NVIDIA_TESLA_K80 2\n",
      "Deployment: gcr.io/cloud-aiplatform/prediction/tf2-gpu.2-1:latest AcceleratorType.NVIDIA_TESLA_K80 1\n"
     ]
    }
   ],
   "source": [
    "#Pre-Built Containers\n",
    "TRAIN_VERSION = \"tf-gpu.2-1\"\n",
    "DEPLOY_VERSION = \"tf2-gpu.2-1\"\n",
    "\n",
    "TRAIN_IMAGE = \"gcr.io/cloud-aiplatform/training/{}:latest\".format(TRAIN_VERSION)\n",
    "DEPLOY_IMAGE = \"gcr.io/cloud-aiplatform/prediction/{}:latest\".format(DEPLOY_VERSION)\n",
    "\n",
    "print(\"Training:\", TRAIN_IMAGE, TRAIN_GPU, TRAIN_NGPU)\n",
    "print(\"Deployment:\", DEPLOY_IMAGE, DEPLOY_GPU, DEPLOY_NGPU)\n"
   ]
  },
  {
   "cell_type": "code",
   "execution_count": null,
   "id": "4a3c200d-999d-44fe-9b7a-d4dea12c070a",
   "metadata": {},
   "outputs": [],
   "source": [
    "job = aiplatform.CustomTrainingJob(\n",
    "    display_name=JOB_NAME,\n",
    "    script_path=\"task.py\",\n",
    "    container_uri=TRAIN_IMAGE,\n",
    "    requirements=[\"tensorflow_datasets==1.3.0\", \"pandas\",\"gcsfs\",\"google-cloud-storage\",\"google-api-python-client\",\"cloudml-hypertune\"],\n",
    "    model_serving_container_image_uri=DEPLOY_IMAGE,\n",
    ")\n",
    "\n",
    "#Model Display name\n",
    "MODEL_DISPLAY_NAME = \"areacover-\" + TIMESTAMP\n",
    "\n",
    "# Start the training\n",
    "if TRAIN_GPU:\n",
    "    model = job.run(\n",
    "        model_display_name=MODEL_DISPLAY_NAME,\n",
    "        args=CMDARGS,\n",
    "        replica_count=1,\n",
    "        machine_type=TRAIN_COMPUTE,\n",
    "        accelerator_type=TRAIN_GPU.name,\n",
    "        accelerator_count=TRAIN_NGPU,\n",
    "    )\n",
    "else:\n",
    "    model = job.run(\n",
    "        model_display_name=MODEL_DISPLAY_NAME,\n",
    "        args=CMDARGS,\n",
    "        replica_count=1,\n",
    "        machine_type=TRAIN_COMPUTE,\n",
    "        accelerator_count=0,\n",
    "    )"
   ]
  },
  {
   "cell_type": "code",
   "execution_count": null,
   "id": "46732e68-e8e5-4a66-8e63-91ca51c7032a",
   "metadata": {},
   "outputs": [],
   "source": []
  },
  {
   "cell_type": "code",
   "execution_count": null,
   "id": "226af430",
   "metadata": {},
   "outputs": [],
   "source": [
    "# Install kubeflow pipeline SDK and google cloud pipeline component for building Vertex AI pipelines\n",
    "!pip3 install kfp google_cloud_pipeline_components --user"
   ]
  },
  {
   "cell_type": "code",
   "execution_count": null,
   "id": "6a86f06d-7d57-40c5-8be2-0185d9707788",
   "metadata": {},
   "outputs": [],
   "source": [
    " !pip3 install $USER kfp google-cloud-pipeline-components --upgrade"
   ]
  },
  {
   "cell_type": "code",
   "execution_count": 188,
   "id": "2d386dc9",
   "metadata": {},
   "outputs": [],
   "source": [
    "# Import the libraries required for Vertext AI pipelines\n",
    "import kfp\n",
    "from kfp.v2 import compiler\n",
    "from google.cloud import aiplatform\n",
    "from google_cloud_pipeline_components import aiplatform as gcc_aip\n",
    "from google.cloud.aiplatform import gapic as aip\n",
    "EXPERIMENT_NAME=\"level300-area-service\"\n",
    "aiplatform.init(project=PROJECT_ID, location=REGION, staging_bucket=BUCKET_NAME)"
   ]
  },
  {
   "cell_type": "markdown",
   "id": "3a5f1aed-476a-47d4-bc9d-93b6dea74a4a",
   "metadata": {},
   "source": [
    "**Task 10** Define the Vertex AI Training pipeline\n",
    "\n",
    "1. Add your code for the Training Operation using your newly created custom container\n",
    "    * This should reference the custom container_uri passed in as a parameter\n",
    "    * This should use \"us-docker.pkg.dev/vertex-ai/prediction/tf2-cpu.2-6:latest\" for the `model_serving_container_image_uri`\n",
    "2. Add your code for the Model Deploy Operation\n",
    "    * This operation should output a model and an endpoint.\n",
    "    \n",
    "All machine types should be specified as \"n1-standard-4\"\n"
   ]
  },
  {
   "cell_type": "code",
   "execution_count": 189,
   "id": "71376ab4-e738-4875-9b72-dce80ac02e3b",
   "metadata": {},
   "outputs": [
    {
     "data": {
      "text/plain": [
       "'gs://level300/'"
      ]
     },
     "execution_count": 189,
     "metadata": {},
     "output_type": "execute_result"
    }
   ],
   "source": [
    "BUCKET_NAME"
   ]
  },
  {
   "cell_type": "code",
   "execution_count": 190,
   "id": "e7fbd20d",
   "metadata": {},
   "outputs": [],
   "source": [
    "# Define the Vertex AI pipeline\n",
    "pipeline_root_path = \"gs://level300/PIPELINE_ROOT\"\n",
    "@kfp.dsl.pipeline(name=\"area-copverage-vertex-ai-pipeline\",\n",
    "                  pipeline_root=PIPELINE_ROOT)\n",
    "def pipeline(\n",
    "    bucket: str = MODEL_ARTIFACTS_LOCATION,\n",
    "    project: str = PROJECT_ID,\n",
    "    gcp_region: str = REGION,\n",
    "    container_uri: str = \"\",\n",
    "):\n",
    "    \n",
    "    training_op = gcc_aip.CustomContainerTrainingJobRunOp(\n",
    "        project=project,\n",
    "        display_name=\"area-copverage-vertex-ai-pipeline-training\",\n",
    "        container_uri=container_uri,\n",
    "        machine_type=\"n1-standard-16\",\n",
    "        accelerator_type=\"NVIDIA_TESLA_V100\",\n",
    "        staging_bucket=bucket,\n",
    "        accelerator_count=\"2\",\n",
    "        model_serving_container_image_uri=\"us-docker.pkg.dev/vertex-ai/prediction/tf2-cpu.2-6:latest\",\n",
    "        model_description=\"This is a area service model\",\n",
    "        #tensorboard=\"projects/demogct/locations/us-central1/tensorboards/8108607983778267136\",\n",
    "        #service_account=\"vertexuser@demogct.iam.gserviceaccount.com\"\n",
    "    )\n",
    "       \n",
    "    create_endpoint_op = gcc_aip.EndpointCreateOp(\n",
    "        project=project,\n",
    "        display_name = \"area-copverage-vertex-ai-model-endpoint\",\n",
    "    )\n",
    "    \n",
    "    model_deploy_op = gcc_aip.ModelDeployOp(\n",
    "        \n",
    "        model=training_op.outputs[\"model\"],\n",
    "        endpoint=create_endpoint_op.outputs['endpoint'],\n",
    "        dedicated_resources_machine_type=\"n1-standard-4\",\n",
    "        dedicated_resources_min_replica_count=1,\n",
    "        dedicated_resources_max_replica_count=2\n",
    "    )"
   ]
  },
  {
   "cell_type": "code",
   "execution_count": 191,
   "id": "a1f5e688",
   "metadata": {},
   "outputs": [
    {
     "name": "stderr",
     "output_type": "stream",
     "text": [
      "/home/jupyter/.local/lib/python3.7/site-packages/kfp/v2/compiler/compiler.py:1266: FutureWarning: APIs imported from the v1 namespace (e.g. kfp.dsl, kfp.components, etc) will not be supported by the v2 compiler since v2.0.0\n",
      "  category=FutureWarning,\n"
     ]
    }
   ],
   "source": [
    "# Compile the  Vertex AI pipeline\n",
    "compiler.Compiler().compile(\n",
    "    pipeline_func=pipeline, package_path=\"area-copverage-vertex-ai-pipeline.json\"\n",
    ")"
   ]
  },
  {
   "cell_type": "markdown",
   "id": "994ffbb0-4b0d-40a9-bab2-85822d2d9638",
   "metadata": {},
   "source": [
    "**Task 11** Create the Vertex AI Pipeline job object\n",
    "\n",
    "The pipeline job must specified using the compiled pipeline definition JSON file and should point to your saved model location and your custom training container"
   ]
  },
  {
   "cell_type": "code",
   "execution_count": 192,
   "id": "35996508",
   "metadata": {},
   "outputs": [],
   "source": [
    "# Create the Vertex AI Pipeline job object\n",
    "#aiplatform.start_run(\"custom-training-run-4\")  # Change this to your desired run name\n",
    "''' parameters = {\"epochs\": 200, 'units': 288,\n",
    " 'learning_rate': 0.001,\n",
    " 'drop1': 0.3,\n",
    " 'drop2': 0.2,\n",
    " 'units_layer1': 192,\n",
    " 'units_layer2': 864,\n",
    " 'activation': 'relu',\n",
    " 'drop': 0.2,} '''\n",
    "\n",
    "\n",
    "#aiplatform.log_params(parameters)\n",
    "\n",
    "pipeline_job = aiplatform.PipelineJob(\n",
    "    display_name=\"area-copverage-vertex-ai-pipeline-run\",\n",
    "    template_path=\"area-copverage-vertex-ai-pipeline.json\",\n",
    "    pipeline_root=pipeline_root_path, \n",
    "    location=\"us-central1\",\n",
    "    parameter_values={\"bucket\":\"gs://level300/\",\"project\":\"demogct\",\"gcp_region\":\"us-central1\", \"container_uri\":\"gcr.io/demogct/areaservice:latest\" },\n",
    "    enable_caching=False\n",
    ")"
   ]
  },
  {
   "cell_type": "code",
   "execution_count": null,
   "id": "ca98b54c-3c60-48e8-a877-81603ef1a839",
   "metadata": {},
   "outputs": [],
   "source": []
  },
  {
   "cell_type": "code",
   "execution_count": 193,
   "id": "ca8cbf9a",
   "metadata": {},
   "outputs": [
    {
     "name": "stdout",
     "output_type": "stream",
     "text": [
      "INFO:google.cloud.aiplatform.pipeline_jobs:Creating PipelineJob\n",
      "INFO:google.cloud.aiplatform.pipeline_jobs:PipelineJob created. Resource name: projects/313681173937/locations/us-central1/pipelineJobs/area-copverage-vertex-ai-pipeline-20220324091525\n",
      "INFO:google.cloud.aiplatform.pipeline_jobs:To use this PipelineJob in another session:\n",
      "INFO:google.cloud.aiplatform.pipeline_jobs:pipeline_job = aiplatform.PipelineJob.get('projects/313681173937/locations/us-central1/pipelineJobs/area-copverage-vertex-ai-pipeline-20220324091525')\n",
      "INFO:google.cloud.aiplatform.pipeline_jobs:View Pipeline Job:\n",
      "https://console.cloud.google.com/vertex-ai/locations/us-central1/pipelines/runs/area-copverage-vertex-ai-pipeline-20220324091525?project=313681173937\n",
      "INFO:google.cloud.aiplatform.pipeline_jobs:PipelineJob projects/313681173937/locations/us-central1/pipelineJobs/area-copverage-vertex-ai-pipeline-20220324091525 current state:\n",
      "PipelineState.PIPELINE_STATE_RUNNING\n",
      "INFO:google.cloud.aiplatform.pipeline_jobs:PipelineJob projects/313681173937/locations/us-central1/pipelineJobs/area-copverage-vertex-ai-pipeline-20220324091525 current state:\n",
      "PipelineState.PIPELINE_STATE_RUNNING\n",
      "INFO:google.cloud.aiplatform.pipeline_jobs:PipelineJob projects/313681173937/locations/us-central1/pipelineJobs/area-copverage-vertex-ai-pipeline-20220324091525 current state:\n",
      "PipelineState.PIPELINE_STATE_RUNNING\n",
      "INFO:google.cloud.aiplatform.pipeline_jobs:PipelineJob projects/313681173937/locations/us-central1/pipelineJobs/area-copverage-vertex-ai-pipeline-20220324091525 current state:\n",
      "PipelineState.PIPELINE_STATE_RUNNING\n",
      "INFO:google.cloud.aiplatform.pipeline_jobs:PipelineJob projects/313681173937/locations/us-central1/pipelineJobs/area-copverage-vertex-ai-pipeline-20220324091525 current state:\n",
      "PipelineState.PIPELINE_STATE_RUNNING\n",
      "INFO:google.cloud.aiplatform.pipeline_jobs:PipelineJob projects/313681173937/locations/us-central1/pipelineJobs/area-copverage-vertex-ai-pipeline-20220324091525 current state:\n",
      "PipelineState.PIPELINE_STATE_RUNNING\n",
      "INFO:google.cloud.aiplatform.pipeline_jobs:PipelineJob projects/313681173937/locations/us-central1/pipelineJobs/area-copverage-vertex-ai-pipeline-20220324091525 current state:\n",
      "PipelineState.PIPELINE_STATE_RUNNING\n",
      "INFO:google.cloud.aiplatform.pipeline_jobs:PipelineJob projects/313681173937/locations/us-central1/pipelineJobs/area-copverage-vertex-ai-pipeline-20220324091525 current state:\n",
      "PipelineState.PIPELINE_STATE_RUNNING\n",
      "INFO:google.cloud.aiplatform.pipeline_jobs:PipelineJob projects/313681173937/locations/us-central1/pipelineJobs/area-copverage-vertex-ai-pipeline-20220324091525 current state:\n",
      "PipelineState.PIPELINE_STATE_RUNNING\n",
      "INFO:google.cloud.aiplatform.pipeline_jobs:PipelineJob run completed. Resource name: projects/313681173937/locations/us-central1/pipelineJobs/area-copverage-vertex-ai-pipeline-20220324091525\n"
     ]
    }
   ],
   "source": [
    "# Run the Vertex AI pipeline job\n",
    "pipeline_job.run()"
   ]
  },
  {
   "cell_type": "code",
   "execution_count": 195,
   "id": "3e69b2e0",
   "metadata": {},
   "outputs": [
    {
     "name": "stdout",
     "output_type": "stream",
     "text": [
      "Using endpoint [https://us-central1-aiplatform.googleapis.com/]\n",
      "MODEL_ID             DISPLAY_NAME\n",
      "4325447957345206272  area-copverage-vertex-ai-pipeline-training-model\n",
      "1285518208870121472  area-copverage-vertex-ai-pipeline-training-model\n",
      "1359264652768313344  area-coverage_20223235916\n",
      "4259019862841491456  area-copverage-vertex-ai-pipeline-training-model\n",
      "371287484513910784   area-copverage-vertex-ai-pipeline-training-model\n",
      "5244182281328787456  area-copverage-vertex-ai-pipeline-training-model\n",
      "5583641103241838592  area-copverage-vertex-ai-pipeline-training-model\n",
      "6317727842503229440  area-copverage-vertex-ai-pipeline-training-model\n",
      "6413992284538273792  areacover-20220323024049\n",
      "3282583168632225792  v1647627416\n",
      "2885703451470200832  train-automl-flowers\n",
      "146336201563963392   levi-train-automl-flowers\n",
      "5278715742533976064  Claims_fraud_2021121405417\n",
      "7448606337996423168  cifar10-20211213165546\n",
      "7272965952528973824  fraud_detection_20211211144118\n",
      "8416880257881079808  beans-model-pipeline\n",
      "5053535761165451264  beans-model-pipeline\n",
      "7235811255603167232  fraud_model\n",
      "4911039054205681664  train-automl-flowers\n",
      "4305516010556882944  cifar10-20211114034741\n",
      "4516974086810763264  customer_churn_2021111532559\n",
      "7183105066214096896  churn\n",
      "7084025874411945984  beans-model-pipeline\n",
      "8849436928341180416  beans-model-pipeline\n",
      "8320263972125147136  cifar10-20211114034741\n",
      "5226291028121616384  cifar10-20211114034741\n",
      "6108152130156101632  train-automl-flowers\n",
      "5018281020332441600  train-automl-flowers\n",
      "2799132303945629696  train-automl-flowers\n",
      "7229548437371355136  train-automl-flowers\n",
      "3060341082333118464  train-automl-flowers\n",
      "3447650650286981120  train-automl-flowers\n",
      "6895156165039095808  train-automl-flowers\n",
      "8286768449896579072  train-automl-flowers\n",
      "1612433802133504000  train-automl-flowers\n",
      "1882649779775733760  train-automl-flowers\n",
      "2494717116633055232  train-automl-flowers\n",
      "6877845453971390464  demogct2 Chicago Taxi classifier AutoML\n",
      "3321690598208962560  train-automl-flowers\n",
      "6683755263389859840  hello_custom\n",
      "1363772650442194944  Happydb_2021812163210\n",
      "980966682115702784   e2e-text-classification-model-20210812133419\n",
      "7355811954658639872  penguins-20210812141200\n",
      "2708097139212288000  penguins-20210812141200\n",
      "8108009849452756992  uktraffic_20215813849\n",
      "368573889816559616   uktraffic_202157193533\n",
      "4964497309548150784  uktraffic_20215752859\n",
      "5616006327517052928  automl_quickstart_20200920123913\n",
      "3886624070606782464  automl_traffic_object_de_20200925080724\n",
      "3310163318303358976  ml_engine_global_taxifare_dnn\n",
      "1580781061393088512  automl_traffic_object_de_20200925011005\n",
      "1004320309089665024  automl_demo_training_vid_20200920033104\n",
      "6192467079820476416  automl_salads_20200925082231\n",
      "8498310089034170368  automl_traffic_object_de_20200920090133\n",
      "7921849336730746880  ml_engine_global_taxifare_dnnv1\n"
     ]
    }
   ],
   "source": [
    "# List the model created by the pipeline\n",
    "!gcloud ai models list --region=$REGION"
   ]
  },
  {
   "cell_type": "code",
   "execution_count": 196,
   "id": "33838709",
   "metadata": {},
   "outputs": [
    {
     "name": "stdout",
     "output_type": "stream",
     "text": [
      "Using endpoint [https://us-central1-aiplatform.googleapis.com/]\n",
      "ENDPOINT_ID          DISPLAY_NAME\n",
      "265052671038193664   area-copverage-vertex-ai-model-endpoint\n",
      "1850319739872608256  area-copverage-vertex-ai-model-endpoint\n",
      "1011524309274853376  area-copverage-vertex-ai-model-endpoint\n",
      "3167904105855188992  prediction-penguin-vertex-training\n",
      "2527724455698890752  claims_fraud\n",
      "3410429982663507968  bq_fraud_detection\n",
      "5437049814980231168  beans-model-pipeline_endpoint\n",
      "825363796552843264   beans-model-pipeline_endpoint\n",
      "9128664503284662272  fraud_endpoint\n",
      "4848837482399137792  churn\n",
      "7438407268137172992  beans-model-pipeline_endpoint\n",
      "2478818178495414272  beans-model-pipeline_endpoint\n",
      "6641270134092595200  cifar10-20211114034741_endpoint\n",
      "87547513850036224    train-automl-flowers_endpoint\n",
      "9202833159647920128  train-automl-flowers_endpoint\n",
      "2956340476485042176  train-automl-flowers_endpoint\n",
      "1061450933268905984  train-automl-flowers_endpoint\n",
      "7571967144586379264  train-automl-flowers_endpoint\n",
      "5252050386537152512  train-automl-flowers_endpoint\n",
      "1351933109234302976  train-automl-flowers_endpoint\n",
      "2966473575646625792  train-automl-flowers_endpoint\n",
      "8179390144327974912  train-automl-flowers_endpoint\n",
      "906076746124623872   train-automl-flowers_endpoint\n",
      "3500968168141094912  hello_custom_image\n",
      "8644782630039977984  e2e-text-classification-model-20210812133419_endpoint\n",
      "8829430214762168320  uktraffic\n",
      "6626677415768752128  bankingprediction\n",
      "8187174686652628992  bankingpredictions4\n",
      "1037710278201966592  Bankingprediction3\n",
      "2091552591006662656  Bankingpreductions5\n",
      "8531700058146471936  bankingprediction\n",
      "1877631608706564096  bankingpredictions3\n",
      "7690688012107120640  taxifare\n",
      "8523853943170662400  uktraffic2\n",
      "5121384424692252672  banking_prediction\n",
      "Vertex AI Endpoint ID:265052671038193664\n"
     ]
    }
   ],
   "source": [
    "# Store the endpoint ID where the model has been deployed \n",
    "\n",
    "!gcloud ai endpoints list --region=$REGION\n",
    "ENDPOINT_IDS=!gcloud ai endpoints list --region=$REGION --format=\"value(name)\" 2>/dev/null\n",
    "print(\"Vertex AI Endpoint ID:\" + ENDPOINT_IDS[0])\n"
   ]
  },
  {
   "cell_type": "code",
   "execution_count": 194,
   "id": "9ca90da2-f6f2-48aa-aa05-8e1c2c24e3d4",
   "metadata": {},
   "outputs": [],
   "source": [
    "# Copy in the pre-prepared sample test.json \n",
    "#!gsutil cp gs://sureskills-lab-dev/CEPF/vertex-ai/test.json . "
   ]
  },
  {
   "cell_type": "markdown",
   "id": "44672e50-b94e-43a0-9816-f8523feda8a7",
   "metadata": {},
   "source": [
    "**Task 12** Create a function to convert the source JSON test data to an array of normalized column values\n",
    "\n",
    "The test data consists of samples with feature data that you want to use to generate area_cover type predictions using the model endpoint. \n",
    "\n",
    "You must define a functon that performs the following tasks:\n",
    "1. Read the `test.json` instance data into a dataframe\n",
    "2. Normalize the column data using the `StandardScalar.fit_transform` method\n",
    "3. Output an array of arrays containing the normalized feature column data for each test instance."
   ]
  },
  {
   "cell_type": "code",
   "execution_count": 132,
   "id": "6c608047-273d-4dba-a16b-33149c8cf497",
   "metadata": {},
   "outputs": [],
   "source": []
  },
  {
   "cell_type": "code",
   "execution_count": 221,
   "id": "52ed3eee-c931-4ba0-bcc0-f2ab5daf8da3",
   "metadata": {},
   "outputs": [],
   "source": [
    "# Convert the json test data to an array of standard scaler normalized column data\n",
    "def get_instances(file_name):\n",
    "    instances = []\n",
    "    test_df = pd.read_csv(file_name)\n",
    "    print(test_df.shape)\n",
    "    test_df= test_df.iloc[: , 1:]\n",
    "    standard_scaler = StandardScaler()\n",
    "    scaled_features = standard_scaler.fit_transform(test_df)\n",
    "    for row in scaled_features:\n",
    "        instances.append(list(row))\n",
    "    return instances\n",
    "\n",
    "def get_instances_from_df(df):\n",
    "    instances = []\n",
    "    standard_scaler = StandardScaler()\n",
    "    scaled_features = standard_scaler.fit_transform(test_df)\n",
    "    for row in scaled_features:\n",
    "        instances.append(list(row))\n",
    "    return instances\n",
    "\n",
    "def get_instances_from_arr(arr):\n",
    "    instances = []\n",
    "    for row in arr:\n",
    "        instances.append(list(row))\n",
    "    return instances"
   ]
  },
  {
   "cell_type": "code",
   "execution_count": 198,
   "id": "9ba31998-afe5-490e-8206-d6c385a87886",
   "metadata": {},
   "outputs": [
    {
     "data": {
      "text/plain": [
       "Index(['Elevation', 'Aspect', 'Slope', 'Horizontal_Distance_To_Hydrology',\n",
       "       'Vertical_Distance_To_Hydrology', 'Horizontal_Distance_To_Roadways',\n",
       "       'Hillshade_9am', 'Hillshade_Noon', 'Hillshade_3pm',\n",
       "       'Horizontal_Distance_To_Fire_Points', 'C2702', 'C2703', 'C2704',\n",
       "       'C2705', 'C2706', 'C2717', 'C3501', 'C3502', 'C4201', 'C4703', 'C4704',\n",
       "       'C4744', 'C4758', 'C5101', 'C5151', 'C6101', 'C6102', 'C6731', 'C7101',\n",
       "       'C7102', 'C7103', 'C7201', 'C7202', 'C7700', 'C7701', 'C7702', 'C7709',\n",
       "       'C7710', 'C7745', 'C7746', 'C7755', 'C7756', 'C7757', 'C7790', 'C8703',\n",
       "       'C8707', 'C8708', 'C8771', 'C8772', 'C8776', 'Cache', 'Commanche',\n",
       "       'Neota', 'Rawah'],\n",
       "      dtype='object')"
      ]
     },
     "execution_count": 198,
     "metadata": {},
     "output_type": "execute_result"
    }
   ],
   "source": [
    "test_df.columns"
   ]
  },
  {
   "cell_type": "code",
   "execution_count": 199,
   "id": "7ca082f9-3ec6-44e1-af13-c73b24ca1bef",
   "metadata": {},
   "outputs": [],
   "source": [
    "# Define a function for making predictions using the endpoint\n",
    "def endpoint_predict( project: str, location: str, instances, endpoint: str):\n",
    "    aiplatform.init(project=project, location=location)\n",
    "    endpoint = aiplatform.Endpoint(endpoint)   \n",
    "    prediction = endpoint.predict(instances=instances)\n",
    "    return prediction"
   ]
  },
  {
   "cell_type": "code",
   "execution_count": 200,
   "id": "1b74ef3e-4eb1-49ac-8bff-b536cb7e09e2",
   "metadata": {},
   "outputs": [
    {
     "name": "stdout",
     "output_type": "stream",
     "text": [
      "(50, 55)\n"
     ]
    }
   ],
   "source": [
    "# Replace the endpoint ID with the new ENDPOINT_ID if needed\n",
    "FILE_NAME = \"model/updated_test.csv\"\n",
    "instances = get_instances(FILE_NAME)"
   ]
  },
  {
   "cell_type": "code",
   "execution_count": 201,
   "id": "a3981890-f5d1-419b-8d84-2779f7ffe1cb",
   "metadata": {},
   "outputs": [
    {
     "data": {
      "text/plain": [
       "'{ \"instances\": [[0.14817968167448203, 1.627787546998503, 0.32235801932243646, -0.9273702009469922, 2.2508163678305717, 1.4992889740999278, 0.3799797947268641, 0.17466176131179917, 1.6040410238866307, 0.32761173744624417, 0.0, 0.0, 0.0, -0.2041241452319315, 0.0, 0.0, 0.0, 0.0, 0.0, 0.0, -0.20412414523193148, -0.29488391230979427, -0.20412414523193148, 0.0, 0.0, -0.14285714285714288, 0.0, 0.0, -0.14285714285714288, 0.0, 0.0, -0.14285714285714288, -0.43643578047198484, -0.25264557631995566, 0.0, 0.0, 0.0, 0.0, 1.8829377433825434, -0.20412414523193148, 0.0, -0.25264557631995566, -0.29488391230979427, 0.0, 0.0, 0.0, 0.0, -0.14285714285714288, -0.20412414523193148, -0.25264557631995566, -0.14285714285714288, -0.8164965809277261, -0.3692744729379982, 1.0834726777719228]]}'"
      ]
     },
     "execution_count": 201,
     "metadata": {},
     "output_type": "execute_result"
    }
   ],
   "source": [
    "\"{ \\\"instances\\\": [\"+ str(instances[0])+\"]}\""
   ]
  },
  {
   "cell_type": "code",
   "execution_count": 220,
   "id": "c5bbdf18",
   "metadata": {},
   "outputs": [
    {
     "name": "stdout",
     "output_type": "stream",
     "text": [
      "(50, 55)\n",
      "[0.14817968167448203, 1.627787546998503, 0.32235801932243646, -0.9273702009469922, 2.2508163678305717, 1.4992889740999278, 0.3799797947268641, 0.17466176131179917, 1.6040410238866307, 0.32761173744624417, 0.0, 0.0, 0.0, -0.2041241452319315, 0.0, 0.0, 0.0, 0.0, 0.0, 0.0, -0.20412414523193148, -0.29488391230979427, -0.20412414523193148, 0.0, 0.0, -0.14285714285714288, 0.0, 0.0, -0.14285714285714288, 0.0, 0.0, -0.14285714285714288, -0.43643578047198484, -0.25264557631995566, 0.0, 0.0, 0.0, 0.0, 1.8829377433825434, -0.20412414523193148, 0.0, -0.25264557631995566, -0.29488391230979427, 0.0, 0.0, 0.0, 0.0, -0.14285714285714288, -0.20412414523193148, -0.25264557631995566, -0.14285714285714288, -0.8164965809277261, -0.3692744729379982, 1.0834726777719228]\n"
     ]
    }
   ],
   "source": [
    "# Test the result by calling get_values() that convert JSON to the numpy array\n",
    "# Replace the endpoint ID with the new ENDPOINT_ID if needed\n",
    "FILE_NAME = \"model/updated_test.csv\"\n",
    "instances = get_instances(FILE_NAME)\n",
    "print(instances[0])\n",
    "prediction_result = endpoint_predict(\n",
    "    project=PROJECT_ID,\n",
    "    location=REGION,\n",
    "    instances=instances,\n",
    "    endpoint=ENDPOINT_IDS[0]\n",
    ")"
   ]
  },
  {
   "cell_type": "code",
   "execution_count": null,
   "id": "6362ecf8",
   "metadata": {},
   "outputs": [],
   "source": [
    "# Save `Area_Cover` predictions with respect to the test instance features\n",
    "area_cover_predictions={}\n",
    "for index,area_cover in enumerate(prediction_result.predictions):\n",
    "    print(index,\":\",np.argmax(area_cover), end=' \\n')\n",
    "    area_cover_predictions[index]=str(np.argmax(area_cover))\n",
    "    \n",
    "f = open(\"predictions.txt\", \"w\")\n",
    "f.write(json.dumps(area_cover_predictions))\n",
    "f.close()"
   ]
  },
  {
   "cell_type": "markdown",
   "id": "a8ce96f3-8da0-44d8-8fec-86ba15eccd82",
   "metadata": {},
   "source": [
    "### Evaluate The Model"
   ]
  },
  {
   "cell_type": "code",
   "execution_count": 251,
   "id": "28658ad0-f2e4-47be-9e99-76349e9a5a61",
   "metadata": {},
   "outputs": [],
   "source": [
    "from sklearn.metrics import confusion_matrix\n",
    "from sklearn.metrics import confusion_matrix, ConfusionMatrixDisplay\n",
    "import matplotlib.pyplot as plt"
   ]
  },
  {
   "cell_type": "code",
   "execution_count": 213,
   "id": "3055b199-57a6-4ca1-af5b-e53f24101f91",
   "metadata": {},
   "outputs": [
    {
     "data": {
      "text/plain": [
       "((20000, 54), (20000, 7))"
      ]
     },
     "execution_count": 213,
     "metadata": {},
     "output_type": "execute_result"
    }
   ],
   "source": [
    "dfx_val.shape,dfy_val.shape"
   ]
  },
  {
   "cell_type": "code",
   "execution_count": 224,
   "id": "a85575fc-bdcd-43a0-b961-16baf5aab0a6",
   "metadata": {},
   "outputs": [],
   "source": [
    "instances = get_instances_from_arr(dfx_val[:2000])"
   ]
  },
  {
   "cell_type": "code",
   "execution_count": 225,
   "id": "7b00aa78-285f-45be-a908-a42c11d7c0cb",
   "metadata": {},
   "outputs": [],
   "source": [
    "prediction_result = endpoint_predict(\n",
    "    project=PROJECT_ID,\n",
    "    location=REGION,\n",
    "    instances=instances,\n",
    "    endpoint=ENDPOINT_IDS[0]\n",
    ")"
   ]
  },
  {
   "cell_type": "code",
   "execution_count": 229,
   "id": "42faaa7e-892e-496b-b948-788bfc302efe",
   "metadata": {},
   "outputs": [],
   "source": [
    "area_cover_predictions=[]\n",
    "for index,area_cover in enumerate(prediction_result.predictions):\n",
    "    #print(index,\":\",np.argmax(area_cover), end=' \\n')\n",
    "    area_cover_predictions.append(np.argmax(area_cover))\n",
    "    \n"
   ]
  },
  {
   "cell_type": "code",
   "execution_count": 231,
   "id": "3dd544e0-5a64-451e-b243-576ab2bec2c7",
   "metadata": {},
   "outputs": [
    {
     "data": {
      "text/plain": [
       "[1, 2, 2, 1, 2, 0, 2, 1, 2]"
      ]
     },
     "execution_count": 231,
     "metadata": {},
     "output_type": "execute_result"
    }
   ],
   "source": [
    "area_cover_predictions[1:10]"
   ]
  },
  {
   "cell_type": "code",
   "execution_count": 232,
   "id": "4398d868-ee72-4e7a-ba19-791b8ddac1d5",
   "metadata": {},
   "outputs": [],
   "source": [
    "eval = dfy_val[:2000]"
   ]
  },
  {
   "cell_type": "code",
   "execution_count": 233,
   "id": "611e9e5d-a924-49ff-a765-672ae2327b49",
   "metadata": {},
   "outputs": [
    {
     "data": {
      "text/plain": [
       "array([[0., 1., 0., ..., 0., 0., 0.],\n",
       "       [0., 1., 0., ..., 0., 0., 0.],\n",
       "       [0., 0., 1., ..., 0., 0., 0.],\n",
       "       ...,\n",
       "       [1., 0., 0., ..., 0., 0., 0.],\n",
       "       [1., 0., 0., ..., 0., 0., 0.],\n",
       "       [1., 0., 0., ..., 0., 0., 0.]], dtype=float32)"
      ]
     },
     "execution_count": 233,
     "metadata": {},
     "output_type": "execute_result"
    }
   ],
   "source": [
    "eval"
   ]
  },
  {
   "cell_type": "code",
   "execution_count": 237,
   "id": "6569ec50-1030-4be8-8ca3-ed75925a28df",
   "metadata": {},
   "outputs": [
    {
     "data": {
      "text/plain": [
       "array([1, 3, 2, 0, 6, 5, 4])"
      ]
     },
     "execution_count": 237,
     "metadata": {},
     "output_type": "execute_result"
    }
   ],
   "source": [
    "area_cover_dataframe[\"Area_Cover\"].unique()"
   ]
  },
  {
   "cell_type": "code",
   "execution_count": 238,
   "id": "7acff47e-fd35-4efa-9157-6d0c0238e7b4",
   "metadata": {},
   "outputs": [],
   "source": [
    "eval_val=[]\n",
    "for data in eval:\n",
    "    eval_val.append(np.argmax(data))"
   ]
  },
  {
   "cell_type": "code",
   "execution_count": 259,
   "id": "49c71203-04eb-4100-a326-17d3a6a346cd",
   "metadata": {},
   "outputs": [],
   "source": [
    "cm=confusion_matrix(area_cover_predictions, eval_val,labels=[0,1,2,3,4,5,6])"
   ]
  },
  {
   "cell_type": "code",
   "execution_count": 260,
   "id": "9ad4ea5c-c156-47a4-bf85-036c59270522",
   "metadata": {},
   "outputs": [],
   "source": [
    "cmdisp=ConfusionMatrixDisplay(confusion_matrix=cm,display_labels=[\"0\",\"1\",\"2\",\"3\",\"4\",\"5\",\"6\"])"
   ]
  },
  {
   "cell_type": "code",
   "execution_count": 263,
   "id": "ac877534-25e4-4277-8d11-acce3bba66dc",
   "metadata": {},
   "outputs": [
    {
     "data": {
      "image/png": "[encoded data removed]",
      "text/plain": [
       "<Figure size 432x288 with 2 Axes>"
      ]
     },
     "metadata": {
      "needs_background": "light"
     },
     "output_type": "display_data"
    }
   ],
   "source": [
    "plt=cmdisp.plot()"
   ]
  },
  {
   "cell_type": "code",
   "execution_count": 265,
   "id": "2916ea27-81cc-4ae4-bb6c-e7306aaa3c74",
   "metadata": {},
   "outputs": [],
   "source": [
    "from sklearn.metrics import top_k_accuracy_score"
   ]
  },
  {
   "cell_type": "markdown",
   "id": "81771029-e692-4dc3-8fa9-443b6e102895",
   "metadata": {},
   "source": [
    "## Explaination"
   ]
  },
  {
   "cell_type": "code",
   "execution_count": 270,
   "id": "801c53ef-2cb9-4167-9275-c7aa94108635",
   "metadata": {},
   "outputs": [],
   "source": [
    "import google.cloud.aiplatform\n",
    "XAI = \"ig\"  # [ shapley, ig, xrai ]\n",
    "\n",
    "if XAI == \"shapley\":\n",
    "    PARAMETERS = {\"sampled_shapley_attribution\": {\"path_count\": 10}}\n",
    "elif XAI == \"ig\":\n",
    "    PARAMETERS = {\"integrated_gradients_attribution\": {\"step_count\": 50}}\n",
    "elif XAI == \"xrai\":\n",
    "    PARAMETERS = {\"xrai_attribution\": {\"step_count\": 50}}\n",
    "\n",
    "parameters = aiplatform.explain.ExplanationParameters(PARAMETERS)"
   ]
  },
  {
   "cell_type": "code",
   "execution_count": 272,
   "id": "15667261-8338-43cb-bd03-09ed5f6c1272",
   "metadata": {},
   "outputs": [],
   "source": [
    "import tensorflow as tf\n",
    "model_path_to_deploy=\"gs://level300/aiplatform-custom-training-2022-03-24-09:16:42.507/model\"\n",
    "loaded = tf.saved_model.load(model_path_to_deploy)"
   ]
  },
  {
   "cell_type": "code",
   "execution_count": 274,
   "id": "836fae3d-e0c2-4827-9659-f155c6eb3fb9",
   "metadata": {},
   "outputs": [
    {
     "name": "stdout",
     "output_type": "stream",
     "text": [
      "Serving function input: dense_input\n",
      "Serving function output: dense_3\n"
     ]
    }
   ],
   "source": [
    "serving_input = list(\n",
    "    loaded.signatures[\"serving_default\"].structured_input_signature[1].keys()\n",
    ")[0]\n",
    "print(\"Serving function input:\", serving_input)\n",
    "serving_output = list(loaded.signatures[\"serving_default\"].structured_outputs.keys())[0]\n",
    "print(\"Serving function output:\", serving_output)\n",
    "\n"
   ]
  },
  {
   "cell_type": "code",
   "execution_count": 276,
   "id": "4eef12b8-43bb-490b-ad2a-4b066ecea14c",
   "metadata": {},
   "outputs": [
    {
     "data": {
      "text/plain": [
       "((),\n",
       " {'dense_input': TensorSpec(shape=(None, 54), dtype=tf.float32, name='dense_input')})"
      ]
     },
     "execution_count": 276,
     "metadata": {},
     "output_type": "execute_result"
    }
   ],
   "source": [
    "loaded.signatures[\"serving_default\"].structured_input_signature"
   ]
  },
  {
   "cell_type": "code",
   "execution_count": 278,
   "id": "1b9642f8-e4c3-4f78-94e9-b80db332de1f",
   "metadata": {},
   "outputs": [],
   "source": [
    "list(area_cover_dataframe.columns)\n",
    "FILE_NAME = \"model/updated_test.csv\"\n",
    "df = pd.read_csv(FILE_NAME)"
   ]
  },
  {
   "cell_type": "code",
   "execution_count": null,
   "id": "e8a2575a-9d05-43b3-9a11-524b1b879e89",
   "metadata": {},
   "outputs": [],
   "source": [
    "list(df.columns)"
   ]
  },
  {
   "cell_type": "code",
   "execution_count": 283,
   "id": "a4bd7c52-eb6c-4475-a236-86853a7b886f",
   "metadata": {},
   "outputs": [],
   "source": [
    "INPUT_METADATA = {\n",
    "    \"input_tensor_name\": serving_input,\n",
    "    \"encoding\": \"BAG_OF_FEATURES\",\n",
    "    \"modality\": \"numeric\",\n",
    "    \"index_feature_mapping\": [\n",
    "        'Elevation',\n",
    " 'Aspect',\n",
    " 'Slope',\n",
    " 'Horizontal_Distance_To_Hydrology',\n",
    " 'Vertical_Distance_To_Hydrology',\n",
    " 'Horizontal_Distance_To_Roadways',\n",
    " 'Hillshade_9am',\n",
    " 'Hillshade_Noon',\n",
    " 'Hillshade_3pm',\n",
    " 'Horizontal_Distance_To_Fire_Points',\n",
    " 'C2702',\n",
    " 'C2703',\n",
    " 'C2704',\n",
    " 'C2705',\n",
    " 'C2706',\n",
    " 'C2717',\n",
    " 'C3501',\n",
    " 'C3502',\n",
    " 'C4201',\n",
    " 'C4703',\n",
    " 'C4704',\n",
    " 'C4744',\n",
    " 'C4758',\n",
    " 'C5101',\n",
    " 'C5151',\n",
    " 'C6101',\n",
    " 'C6102',\n",
    " 'C6731',\n",
    " 'C7101',\n",
    " 'C7102',\n",
    " 'C7103',\n",
    " 'C7201',\n",
    " 'C7202',\n",
    " 'C7700',\n",
    " 'C7701',\n",
    " 'C7702',\n",
    " 'C7709',\n",
    " 'C7710',\n",
    " 'C7745',\n",
    " 'C7746',\n",
    " 'C7755',\n",
    " 'C7756',\n",
    " 'C7757',\n",
    " 'C7790',\n",
    " 'C8703',\n",
    " 'C8707',\n",
    " 'C8708',\n",
    " 'C8771',\n",
    " 'C8772',\n",
    " 'C8776',\n",
    " 'Cache',\n",
    " 'Commanche',\n",
    " 'Neota',\n",
    " 'Rawah',\n",
    "    ],\n",
    "}\n",
    "\n",
    "OUTPUT_METADATA = {\"output_tensor_name\": serving_output}\n",
    "\n",
    "input_metadata = aiplatform.explain.ExplanationMetadata.InputMetadata(INPUT_METADATA)\n",
    "output_metadata = aiplatform.explain.ExplanationMetadata.OutputMetadata(OUTPUT_METADATA)\n",
    "\n",
    "metadata = aiplatform.explain.ExplanationMetadata(\n",
    "    inputs={\"features\": input_metadata}, outputs={\"medv\": output_metadata}\n",
    ")"
   ]
  },
  {
   "cell_type": "code",
   "execution_count": 284,
   "id": "f55d1e09-b573-4ef4-a7fc-1e79487ce806",
   "metadata": {},
   "outputs": [
    {
     "name": "stdout",
     "output_type": "stream",
     "text": [
      "INFO:google.cloud.aiplatform.models:Creating Model\n",
      "INFO:google.cloud.aiplatform.models:Create Model backing LRO: projects/313681173937/locations/us-central1/models/2652360695777067008/operations/8413043580775432192\n"
     ]
    }
   ],
   "source": [
    "model = aiplatform.Model.upload(\n",
    "    display_name=\"area-copverage-vertex-ai-pipeline-training-model\" + TIMESTAMP,\n",
    "    artifact_uri=model_path_to_deploy,\n",
    "    serving_container_image_uri=DEPLOY_IMAGE,\n",
    "    explanation_parameters=parameters,\n",
    "    explanation_metadata=metadata,\n",
    "    sync=False,\n",
    ")\n"
   ]
  },
  {
   "cell_type": "code",
   "execution_count": 285,
   "id": "d9973673-16cd-4c75-8357-1a4d67ee2d07",
   "metadata": {},
   "outputs": [
    {
     "name": "stdout",
     "output_type": "stream",
     "text": [
      "INFO:google.cloud.aiplatform.models:Model created. Resource name: projects/313681173937/locations/us-central1/models/2652360695777067008\n",
      "INFO:google.cloud.aiplatform.models:To use this Model in another session:\n",
      "INFO:google.cloud.aiplatform.models:model = aiplatform.Model('projects/313681173937/locations/us-central1/models/2652360695777067008')\n"
     ]
    }
   ],
   "source": [
    "model.wait()"
   ]
  },
  {
   "cell_type": "code",
   "execution_count": 291,
   "id": "51faab5d-0e6c-4107-94f4-391c86ad10ad",
   "metadata": {},
   "outputs": [
    {
     "name": "stdout",
     "output_type": "stream",
     "text": [
      "INFO:google.cloud.aiplatform.models:Creating Endpoint\n",
      "INFO:google.cloud.aiplatform.models:Create Endpoint backing LRO: projects/313681173937/locations/us-central1/endpoints/1345916581607112704/operations/465316138373349376\n",
      "INFO:google.cloud.aiplatform.models:Endpoint created. Resource name: projects/313681173937/locations/us-central1/endpoints/1345916581607112704\n",
      "INFO:google.cloud.aiplatform.models:To use this Endpoint in another session:\n",
      "INFO:google.cloud.aiplatform.models:endpoint = aiplatform.Endpoint('projects/313681173937/locations/us-central1/endpoints/1345916581607112704')\n",
      "INFO:google.cloud.aiplatform.models:Deploying model to Endpoint : projects/313681173937/locations/us-central1/endpoints/1345916581607112704\n",
      "INFO:google.cloud.aiplatform.models:Deploy Endpoint model backing LRO: projects/313681173937/locations/us-central1/endpoints/1345916581607112704/operations/5734527702396829696\n",
      "INFO:google.cloud.aiplatform.models:Endpoint model deployed. Resource name: projects/313681173937/locations/us-central1/endpoints/1345916581607112704\n"
     ]
    }
   ],
   "source": [
    "DEPLOYED_NAME=\"area-copverage-vertex-ai-pipeline-training-model\" + TIMESTAMP\n",
    "\n",
    "TRAFFIC_SPLIT = {\"0\": 100}\n",
    "\n",
    "MIN_NODES = 1\n",
    "MAX_NODES = 1\n",
    "DEPLOY_GPU=\"NVIDIA_TESLA_T4\"\n",
    "if DEPLOY_GPU:\n",
    "    endpoint = model.deploy(\n",
    "        deployed_model_display_name=DEPLOYED_NAME,\n",
    "        traffic_split=TRAFFIC_SPLIT,\n",
    "        machine_type=DEPLOY_COMPUTE,\n",
    "        accelerator_type=DEPLOY_GPU,\n",
    "        accelerator_count=1,\n",
    "        min_replica_count=MIN_NODES,\n",
    "        max_replica_count=MAX_NODES,\n",
    "    )\n",
    "else:\n",
    "    endpoint = model.deploy(\n",
    "        deployed_model_display_name=DEPLOYED_NAME,\n",
    "        traffic_split=TRAFFIC_SPLIT,\n",
    "        machine_type=DEPLOY_COMPUTE,\n",
    "        accelerator_type=DEPLOY_GPU,\n",
    "        accelerator_count=1,\n",
    "        min_replica_count=MIN_NODES,\n",
    "        max_replica_count=MAX_NODES,\n",
    "    )"
   ]
  },
  {
   "cell_type": "code",
   "execution_count": 292,
   "id": "6eae97ae-22f4-4285-9a8c-a457cf74b11f",
   "metadata": {},
   "outputs": [
    {
     "name": "stdout",
     "output_type": "stream",
     "text": [
      "Prediction(predictions=[[0.128417, 0.838616, 0.000395665, 3.23726955e-19, 0.0322826281, 0.000264784787, 2.38907978e-05]], deployed_model_id='4832036944726720512', explanations=[attributions {\n",
      "  baseline_output_value: 0.6634126901626587\n",
      "  instance_output_value: 0.8386160135269165\n",
      "  feature_attributions {\n",
      "    struct_value {\n",
      "      fields {\n",
      "        key: \"Aspect\"\n",
      "        value {\n",
      "          list_value {\n",
      "            values {\n",
      "              number_value: -0.042764563113451\n",
      "            }\n",
      "          }\n",
      "        }\n",
      "      }\n",
      "      fields {\n",
      "        key: \"C2702\"\n",
      "        value {\n",
      "          list_value {\n",
      "            values {\n",
      "              number_value: 0.01719162613153458\n",
      "            }\n",
      "          }\n",
      "        }\n",
      "      }\n",
      "      fields {\n",
      "        key: \"C2703\"\n",
      "        value {\n",
      "          list_value {\n",
      "            values {\n",
      "              number_value: 0.02272014133632183\n",
      "            }\n",
      "          }\n",
      "        }\n",
      "      }\n",
      "      fields {\n",
      "        key: \"C2704\"\n",
      "        value {\n",
      "          list_value {\n",
      "            values {\n",
      "              number_value: -0.03445787727832794\n",
      "            }\n",
      "          }\n",
      "        }\n",
      "      }\n",
      "      fields {\n",
      "        key: \"C2705\"\n",
      "        value {\n",
      "          list_value {\n",
      "            values {\n",
      "              number_value: -0.009766791015863419\n",
      "            }\n",
      "          }\n",
      "        }\n",
      "      }\n",
      "      fields {\n",
      "        key: \"C2706\"\n",
      "        value {\n",
      "          list_value {\n",
      "            values {\n",
      "              number_value: 0.001673406921327114\n",
      "            }\n",
      "          }\n",
      "        }\n",
      "      }\n",
      "      fields {\n",
      "        key: \"C2717\"\n",
      "        value {\n",
      "          list_value {\n",
      "            values {\n",
      "              number_value: 0.002641903236508369\n",
      "            }\n",
      "          }\n",
      "        }\n",
      "      }\n",
      "      fields {\n",
      "        key: \"C3501\"\n",
      "        value {\n",
      "          list_value {\n",
      "            values {\n",
      "              number_value: -0.001100567518733442\n",
      "            }\n",
      "          }\n",
      "        }\n",
      "      }\n",
      "      fields {\n",
      "        key: \"C3502\"\n",
      "        value {\n",
      "          list_value {\n",
      "            values {\n",
      "              number_value: -0.002166070509701967\n",
      "            }\n",
      "          }\n",
      "        }\n",
      "      }\n",
      "      fields {\n",
      "        key: \"C4201\"\n",
      "        value {\n",
      "          list_value {\n",
      "            values {\n",
      "              number_value: -0.002290361095219851\n",
      "            }\n",
      "          }\n",
      "        }\n",
      "      }\n",
      "      fields {\n",
      "        key: \"C4703\"\n",
      "        value {\n",
      "          list_value {\n",
      "            values {\n",
      "              number_value: -0.006832616403698921\n",
      "            }\n",
      "          }\n",
      "        }\n",
      "      }\n",
      "      fields {\n",
      "        key: \"C4704\"\n",
      "        value {\n",
      "          list_value {\n",
      "            values {\n",
      "              number_value: 0.0002810376754496247\n",
      "            }\n",
      "          }\n",
      "        }\n",
      "      }\n",
      "      fields {\n",
      "        key: \"C4744\"\n",
      "        value {\n",
      "          list_value {\n",
      "            values {\n",
      "              number_value: -0.0005688304081559181\n",
      "            }\n",
      "          }\n",
      "        }\n",
      "      }\n",
      "      fields {\n",
      "        key: \"C4758\"\n",
      "        value {\n",
      "          list_value {\n",
      "            values {\n",
      "              number_value: 0.0006975403521209955\n",
      "            }\n",
      "          }\n",
      "        }\n",
      "      }\n",
      "      fields {\n",
      "        key: \"C5101\"\n",
      "        value {\n",
      "          list_value {\n",
      "            values {\n",
      "              number_value: -0.003167205024510622\n",
      "            }\n",
      "          }\n",
      "        }\n",
      "      }\n",
      "      fields {\n",
      "        key: \"C5151\"\n",
      "        value {\n",
      "          list_value {\n",
      "            values {\n",
      "              number_value: 0.003197832033038139\n",
      "            }\n",
      "          }\n",
      "        }\n",
      "      }\n",
      "      fields {\n",
      "        key: \"C6101\"\n",
      "        value {\n",
      "          list_value {\n",
      "            values {\n",
      "              number_value: -0.004516276530921459\n",
      "            }\n",
      "          }\n",
      "        }\n",
      "      }\n",
      "      fields {\n",
      "        key: \"C6102\"\n",
      "        value {\n",
      "          list_value {\n",
      "            values {\n",
      "              number_value: 0.004321904387325048\n",
      "            }\n",
      "          }\n",
      "        }\n",
      "      }\n",
      "      fields {\n",
      "        key: \"C6731\"\n",
      "        value {\n",
      "          list_value {\n",
      "            values {\n",
      "              number_value: -0.0007384098134934902\n",
      "            }\n",
      "          }\n",
      "        }\n",
      "      }\n",
      "      fields {\n",
      "        key: \"C7101\"\n",
      "        value {\n",
      "          list_value {\n",
      "            values {\n",
      "              number_value: -0.0002675398136489093\n",
      "            }\n",
      "          }\n",
      "        }\n",
      "      }\n",
      "      fields {\n",
      "        key: \"C7102\"\n",
      "        value {\n",
      "          list_value {\n",
      "            values {\n",
      "              number_value: 0.001025717006996274\n",
      "            }\n",
      "          }\n",
      "        }\n",
      "      }\n",
      "      fields {\n",
      "        key: \"C7103\"\n",
      "        value {\n",
      "          list_value {\n",
      "            values {\n",
      "              number_value: 0.002303221262991428\n",
      "            }\n",
      "          }\n",
      "        }\n",
      "      }\n",
      "      fields {\n",
      "        key: \"C7201\"\n",
      "        value {\n",
      "          list_value {\n",
      "            values {\n",
      "              number_value: -0.001948889927007258\n",
      "            }\n",
      "          }\n",
      "        }\n",
      "      }\n",
      "      fields {\n",
      "        key: \"C7202\"\n",
      "        value {\n",
      "          list_value {\n",
      "            values {\n",
      "              number_value: 0.00576786370947957\n",
      "            }\n",
      "          }\n",
      "        }\n",
      "      }\n",
      "      fields {\n",
      "        key: \"C7700\"\n",
      "        value {\n",
      "          list_value {\n",
      "            values {\n",
      "              number_value: 0.003140684217214584\n",
      "            }\n",
      "          }\n",
      "        }\n",
      "      }\n",
      "      fields {\n",
      "        key: \"C7701\"\n",
      "        value {\n",
      "          list_value {\n",
      "            values {\n",
      "              number_value: 7.969726721057668e-05\n",
      "            }\n",
      "          }\n",
      "        }\n",
      "      }\n",
      "      fields {\n",
      "        key: \"C7702\"\n",
      "        value {\n",
      "          list_value {\n",
      "            values {\n",
      "              number_value: -0.006348134949803352\n",
      "            }\n",
      "          }\n",
      "        }\n",
      "      }\n",
      "      fields {\n",
      "        key: \"C7709\"\n",
      "        value {\n",
      "          list_value {\n",
      "            values {\n",
      "              number_value: -0.01394055038690567\n",
      "            }\n",
      "          }\n",
      "        }\n",
      "      }\n",
      "      fields {\n",
      "        key: \"C7710\"\n",
      "        value {\n",
      "          list_value {\n",
      "            values {\n",
      "              number_value: -0.02384883724153042\n",
      "            }\n",
      "          }\n",
      "        }\n",
      "      }\n",
      "      fields {\n",
      "        key: \"C7745\"\n",
      "        value {\n",
      "          list_value {\n",
      "            values {\n",
      "              number_value: 0.00101440551225096\n",
      "            }\n",
      "          }\n",
      "        }\n",
      "      }\n",
      "      fields {\n",
      "        key: \"C7746\"\n",
      "        value {\n",
      "          list_value {\n",
      "            values {\n",
      "              number_value: 0.0007150452001951635\n",
      "            }\n",
      "          }\n",
      "        }\n",
      "      }\n",
      "      fields {\n",
      "        key: \"C7755\"\n",
      "        value {\n",
      "          list_value {\n",
      "            values {\n",
      "              number_value: 0.00105728127527982\n",
      "            }\n",
      "          }\n",
      "        }\n",
      "      }\n",
      "      fields {\n",
      "        key: \"C7756\"\n",
      "        value {\n",
      "          list_value {\n",
      "            values {\n",
      "              number_value: -0.002163494704291224\n",
      "            }\n",
      "          }\n",
      "        }\n",
      "      }\n",
      "      fields {\n",
      "        key: \"C7757\"\n",
      "        value {\n",
      "          list_value {\n",
      "            values {\n",
      "              number_value: -0.007207319140434265\n",
      "            }\n",
      "          }\n",
      "        }\n",
      "      }\n",
      "      fields {\n",
      "        key: \"C7790\"\n",
      "        value {\n",
      "          list_value {\n",
      "            values {\n",
      "              number_value: -0.002272517420351505\n",
      "            }\n",
      "          }\n",
      "        }\n",
      "      }\n",
      "      fields {\n",
      "        key: \"C8703\"\n",
      "        value {\n",
      "          list_value {\n",
      "            values {\n",
      "              number_value: -0.01044667325913906\n",
      "            }\n",
      "          }\n",
      "        }\n",
      "      }\n",
      "      fields {\n",
      "        key: \"C8707\"\n",
      "        value {\n",
      "          list_value {\n",
      "            values {\n",
      "              number_value: 0.01621357165277004\n",
      "            }\n",
      "          }\n",
      "        }\n",
      "      }\n",
      "      fields {\n",
      "        key: \"C8708\"\n",
      "        value {\n",
      "          list_value {\n",
      "            values {\n",
      "              number_value: -0.03019608743488789\n",
      "            }\n",
      "          }\n",
      "        }\n",
      "      }\n",
      "      fields {\n",
      "        key: \"C8771\"\n",
      "        value {\n",
      "          list_value {\n",
      "            values {\n",
      "              number_value: -0.0001893362059490755\n",
      "            }\n",
      "          }\n",
      "        }\n",
      "      }\n",
      "      fields {\n",
      "        key: \"C8772\"\n",
      "        value {\n",
      "          list_value {\n",
      "            values {\n",
      "              number_value: 0.002558431820943952\n",
      "            }\n",
      "          }\n",
      "        }\n",
      "      }\n",
      "      fields {\n",
      "        key: \"C8776\"\n",
      "        value {\n",
      "          list_value {\n",
      "            values {\n",
      "              number_value: 2.376637712586671e-05\n",
      "            }\n",
      "          }\n",
      "        }\n",
      "      }\n",
      "      fields {\n",
      "        key: \"Cache\"\n",
      "        value {\n",
      "          list_value {\n",
      "            values {\n",
      "              number_value: -0.001184358960017562\n",
      "            }\n",
      "          }\n",
      "        }\n",
      "      }\n",
      "      fields {\n",
      "        key: \"Commanche\"\n",
      "        value {\n",
      "          list_value {\n",
      "            values {\n",
      "              number_value: -0.006705182138830423\n",
      "            }\n",
      "          }\n",
      "        }\n",
      "      }\n",
      "      fields {\n",
      "        key: \"Elevation\"\n",
      "        value {\n",
      "          list_value {\n",
      "            values {\n",
      "              number_value: -0.05113434791564941\n",
      "            }\n",
      "          }\n",
      "        }\n",
      "      }\n",
      "      fields {\n",
      "        key: \"Hillshade_3pm\"\n",
      "        value {\n",
      "          list_value {\n",
      "            values {\n",
      "              number_value: -0.04648313671350479\n",
      "            }\n",
      "          }\n",
      "        }\n",
      "      }\n",
      "      fields {\n",
      "        key: \"Hillshade_9am\"\n",
      "        value {\n",
      "          list_value {\n",
      "            values {\n",
      "              number_value: -0.01008445210754871\n",
      "            }\n",
      "          }\n",
      "        }\n",
      "      }\n",
      "      fields {\n",
      "        key: \"Hillshade_Noon\"\n",
      "        value {\n",
      "          list_value {\n",
      "            values {\n",
      "              number_value: 0.01982821524143219\n",
      "            }\n",
      "          }\n",
      "        }\n",
      "      }\n",
      "      fields {\n",
      "        key: \"Horizontal_Distance_To_Fire_Points\"\n",
      "        value {\n",
      "          list_value {\n",
      "            values {\n",
      "              number_value: 0.2414994537830353\n",
      "            }\n",
      "          }\n",
      "        }\n",
      "      }\n",
      "      fields {\n",
      "        key: \"Horizontal_Distance_To_Hydrology\"\n",
      "        value {\n",
      "          list_value {\n",
      "            values {\n",
      "              number_value: 0.04101450741291046\n",
      "            }\n",
      "          }\n",
      "        }\n",
      "      }\n",
      "      fields {\n",
      "        key: \"Horizontal_Distance_To_Roadways\"\n",
      "        value {\n",
      "          list_value {\n",
      "            values {\n",
      "              number_value: 0.1057233512401581\n",
      "            }\n",
      "          }\n",
      "        }\n",
      "      }\n",
      "      fields {\n",
      "        key: \"Neota\"\n",
      "        value {\n",
      "          list_value {\n",
      "            values {\n",
      "              number_value: 0.006717878393828869\n",
      "            }\n",
      "          }\n",
      "        }\n",
      "      }\n",
      "      fields {\n",
      "        key: \"Rawah\"\n",
      "        value {\n",
      "          list_value {\n",
      "            values {\n",
      "              number_value: -0.004296878352761269\n",
      "            }\n",
      "          }\n",
      "        }\n",
      "      }\n",
      "      fields {\n",
      "        key: \"Slope\"\n",
      "        value {\n",
      "          list_value {\n",
      "            values {\n",
      "              number_value: -0.01872320100665092\n",
      "            }\n",
      "          }\n",
      "        }\n",
      "      }\n",
      "      fields {\n",
      "        key: \"Vertical_Distance_To_Hydrology\"\n",
      "        value {\n",
      "          list_value {\n",
      "            values {\n",
      "              number_value: 0.0126778706908226\n",
      "            }\n",
      "          }\n",
      "        }\n",
      "      }\n",
      "    }\n",
      "  }\n",
      "  output_index: 1\n",
      "  approximation_error: 0.039539632038913246\n",
      "  output_name: \"medv\"\n",
      "}\n",
      "])\n"
     ]
    }
   ],
   "source": [
    "def get_instances(file_name):\n",
    "    instances = []\n",
    "    test_df = pd.read_csv(file_name)\n",
    "    print(test_df.shape)\n",
    "    test_df= test_df.iloc[: , 1:]\n",
    "    standard_scaler = StandardScaler()\n",
    "    scaled_features = standard_scaler.fit_transform(test_df)\n",
    "    for row in scaled_features:\n",
    "        instances.append(list(row))\n",
    "    return instances\n",
    "\n",
    "\n",
    "def get_instances_from_arr(arr):\n",
    "    instances = []\n",
    "    for row in arr:\n",
    "        instances.append(list(row))\n",
    "    return instances\n",
    "\n",
    "instances = get_instances_from_arr(dfx_val[:1])\n",
    "#instances_list = [test_item.tolist()]\n",
    "\n",
    "prediction = endpoint.explain(instances)\n",
    "print(prediction)"
   ]
  },
  {
   "cell_type": "code",
   "execution_count": 293,
   "id": "9e86ab4a-f5c5-4cf8-a9fc-57abbc38c283",
   "metadata": {},
   "outputs": [
    {
     "name": "stdout",
     "output_type": "stream",
     "text": [
      "Predicted Value: 0.128417\n"
     ]
    }
   ],
   "source": [
    "value = prediction[0][0][0]\n",
    "print(\"Predicted Value:\", value)"
   ]
  },
  {
   "cell_type": "code",
   "execution_count": 296,
   "id": "1bf4f772-0c02-4d0a-8951-bf11b87611cc",
   "metadata": {},
   "outputs": [],
   "source": [
    "attributions = prediction.explanations[0].attributions[0].feature_attributions"
   ]
  },
  {
   "cell_type": "code",
   "execution_count": 298,
   "id": "0dd0295e-e4a6-4137-ad88-59760f94c1a0",
   "metadata": {},
   "outputs": [
    {
     "data": {
      "text/plain": [
       "[-0.05113434791564941]"
      ]
     },
     "execution_count": 298,
     "metadata": {},
     "output_type": "execute_result"
    }
   ],
   "source": [
    "attributions[\"Elevation\"]"
   ]
  },
  {
   "cell_type": "code",
   "execution_count": 303,
   "id": "3e29bffb-e4eb-4a90-b2a2-a732ef81c71d",
   "metadata": {},
   "outputs": [
    {
     "name": "stdout",
     "output_type": "stream",
     "text": [
      "Feature name                          Scaled Feature value  Attribution value\n",
      "----------------------------------  ----------------------  ------------------------\n",
      "Elevation                                      -0.261124    [-0.05113434791564941]\n",
      "Aspect                                          1.3372      [-0.042764563113451]\n",
      "Slope                                          -0.814243    [-0.01872320100665092]\n",
      "Horizontal_Distance_To_Hydrology               -0.55921     [0.04101450741291046]\n",
      "Vertical_Distance_To_Hydrology                 -0.488448    [0.0126778706908226]\n",
      "Horizontal_Distance_To_Roadways                -0.304428    [0.1057233512401581]\n",
      "Hillshade_9am                                  -0.492677    [-0.01008445210754871]\n",
      "Hillshade_Noon                                  0.64225     [0.01982821524143219]\n",
      "Hillshade_3pm                                   0.877936    [-0.04648313671350479]\n",
      "Horizontal_Distance_To_Fire_Points             -0.630152    [0.2414994537830353]\n",
      "C2702                                          -0.261575    [0.01719162613153458]\n",
      "C2703                                           1.13874     [0.02272014133632183]\n",
      "C2704                                          -0.232634    [-0.03445787727832794]\n",
      "C2705                                          -0.90311     [-0.009766791015863419]\n",
      "C2706                                          -0.0733401   [0.001673406921327114]\n",
      "C2717                                          -0.114989    [0.002641903236508369]\n",
      "C3501                                          -0.0902542   [-0.001100567518733442]\n",
      "C3502                                          -0.146103    [-0.002166070509701967]\n",
      "C4201                                          -0.0545788   [-0.002290361095219851]\n",
      "C4703                                          -0.106428    [-0.006832616403698921]\n",
      "C4704                                          -0.0122484   [0.0002810376754496247]\n",
      "C4744                                          -0.0202526   [-0.0005688304081559181]\n",
      "C4758                                          -0.0452125   [0.0006975403521209955]\n",
      "C5101                                          -0.244045    [-0.003167205024510622]\n",
      "C5151                                          -0.148266    [0.003197832033038139]\n",
      "C6101                                          -0.231677    [-0.004516276530921459]\n",
      "C6102                                          -0.175621    [0.004321904387325048]\n",
      "C6731                                          -0.0324207   [-0.0007384098134934902]\n",
      "C7101                                          -0.00316229  [-0.0002675398136489093]\n",
      "C7102                                          -0.0687182   [0.001025717006996274]\n",
      "C7103                                          -0.076578    [0.002303221262991428]\n",
      "C7201                                          -0.0582363   [-0.001948889927007258]\n",
      "C7202                                          -0.0832326   [0.00576786370947957]\n",
      "C7700                                          -0.127758    [0.003140684217214584]\n",
      "C7701                                          -0.040032    [7.969726721057668e-05]\n",
      "C7702                                          -0.247362    [-0.006348134949803352]\n",
      "C7709                                          -0.332963    [-0.01394055038690567]\n",
      "C7710                                          -0.195436    [-0.02384883724153042]\n",
      "C7745                                          -0.0286474   [0.00101440551225096]\n",
      "C7746                                          -0.0692305   [0.0007150452001951635]\n",
      "C7755                                          -0.0419893   [0.00105728127527982]\n",
      "C7756                                          -0.0367672   [-0.002163494704291224]\n",
      "C7757                                          -0.496951    [-0.007207319140434265]\n",
      "C7790                                          -0.234538    [-0.002272517420351505]\n",
      "C8703                                          -0.212461    [-0.01044667325913906]\n",
      "C8707                                           3.17013     [0.01621357165277004]\n",
      "C8708                                          -0.290515    [-0.03019608743488789]\n",
      "C8771                                          -0.0521283   [-0.0001893362059490755]\n",
      "C8772                                          -0.0555834   [0.002558431820943952]\n",
      "C8776                                          -0.014834    [2.376637712586671e-05]\n",
      "Cache                                          -0.0230278   [-0.001184358960017562]\n",
      "Commanche                                      -0.167939    [-0.006705182138830423]\n",
      "Neota                                          -0.156108    [0.006717878393828869]\n",
      "Rawah                                          -0.124816    [-0.004296878352761269]\n"
     ]
    }
   ],
   "source": [
    "from tabulate import tabulate\n",
    "\n",
    "feature_names = [\n",
    "    'Elevation',\n",
    " 'Aspect',\n",
    " 'Slope',\n",
    " 'Horizontal_Distance_To_Hydrology',\n",
    " 'Vertical_Distance_To_Hydrology',\n",
    " 'Horizontal_Distance_To_Roadways',\n",
    " 'Hillshade_9am',\n",
    " 'Hillshade_Noon',\n",
    " 'Hillshade_3pm',\n",
    " 'Horizontal_Distance_To_Fire_Points',\n",
    " 'C2702',\n",
    " 'C2703',\n",
    " 'C2704',\n",
    " 'C2705',\n",
    " 'C2706',\n",
    " 'C2717',\n",
    " 'C3501',\n",
    " 'C3502',\n",
    " 'C4201',\n",
    " 'C4703',\n",
    " 'C4704',\n",
    " 'C4744',\n",
    " 'C4758',\n",
    " 'C5101',\n",
    " 'C5151',\n",
    " 'C6101',\n",
    " 'C6102',\n",
    " 'C6731',\n",
    " 'C7101',\n",
    " 'C7102',\n",
    " 'C7103',\n",
    " 'C7201',\n",
    " 'C7202',\n",
    " 'C7700',\n",
    " 'C7701',\n",
    " 'C7702',\n",
    " 'C7709',\n",
    " 'C7710',\n",
    " 'C7745',\n",
    " 'C7746',\n",
    " 'C7755',\n",
    " 'C7756',\n",
    " 'C7757',\n",
    " 'C7790',\n",
    " 'C8703',\n",
    " 'C8707',\n",
    " 'C8708',\n",
    " 'C8771',\n",
    " 'C8772',\n",
    " 'C8776',\n",
    " 'Cache',\n",
    " 'Commanche',\n",
    " 'Neota',\n",
    " 'Rawah'\n",
    "]\n",
    "attributions = prediction.explanations[0].attributions[0].feature_attributions\n",
    "\n",
    "rows = []\n",
    "for i, val in enumerate(feature_names):\n",
    "    rows.append([val, dfx_val[0][i], attributions[val]])\n",
    "print(tabulate(rows, headers=[\"Feature name\", \"Scaled Feature value\", \"Attribution value\"]))"
   ]
  },
  {
   "cell_type": "code",
   "execution_count": 330,
   "id": "b49ad4d9-52b1-4599-afb2-88fa14d32f71",
   "metadata": {},
   "outputs": [],
   "source": [
    "flist = list(feature_names)\n",
    "alist=[]\n",
    "for feature in feature_names:\n",
    "    alist.append(attributions[feature][0])"
   ]
  },
  {
   "cell_type": "code",
   "execution_count": 340,
   "id": "fe56aaf2-f276-4dfb-9cdf-bd9ed6702ea9",
   "metadata": {},
   "outputs": [
    {
     "data": {
      "text/plain": [
       "<AxesSubplot:>"
      ]
     },
     "execution_count": 340,
     "metadata": {},
     "output_type": "execute_result"
    },
    {
     "data": {
      "image/png": "[encoded data removed]",
      "text/plain": [
       "<Figure size 1800x7200 with 1 Axes>"
      ]
     },
     "metadata": {},
     "output_type": "display_data"
    }
   ],
   "source": [
    "import seaborn as sns\n",
    "import matplotlib.pyplot as plt\n",
    "sns.set_theme(style=\"whitegrid\")\n",
    "\n",
    "# Initialize the matplotlib figure\n",
    "f, ax = plt.subplots(figsize=(25, 100))\n",
    "sns.set_color_codes(\"pastel\")\n",
    "sns.barplot(y=flist, x=alist,\n",
    "            label=\"Total\", color=\"b\",orient = 'h')\n"
   ]
  },
  {
   "cell_type": "code",
   "execution_count": 341,
   "id": "1c602b15-bfa9-47bc-adf4-dbdb7fbf4e7b",
   "metadata": {},
   "outputs": [
    {
     "name": "stdout",
     "output_type": "stream",
     "text": [
      "INFO:google.cloud.aiplatform.models:Undeploying Endpoint model: projects/313681173937/locations/us-central1/endpoints/1345916581607112704\n",
      "INFO:google.cloud.aiplatform.models:Undeploy Endpoint model backing LRO: projects/313681173937/locations/us-central1/endpoints/1345916581607112704/operations/9159515219012091904\n",
      "INFO:google.cloud.aiplatform.models:Endpoint model undeployed. Resource name: projects/313681173937/locations/us-central1/endpoints/1345916581607112704\n"
     ]
    },
    {
     "data": {
      "text/plain": [
       "<google.cloud.aiplatform.models.Endpoint object at 0x7fc94dcdcd10> \n",
       "resource name: projects/313681173937/locations/us-central1/endpoints/1345916581607112704"
      ]
     },
     "execution_count": 341,
     "metadata": {},
     "output_type": "execute_result"
    }
   ],
   "source": [
    "endpoint.undeploy_all()"
   ]
  },
  {
   "cell_type": "code",
   "execution_count": null,
   "id": "83359343-a1d1-4583-861d-b0d5c846955c",
   "metadata": {},
   "outputs": [],
   "source": []
  }
 ],
 "metadata": {
  "environment": {
   "kernel": "python3",
   "name": "managed-notebooks.m90",
   "type": "gcloud",
   "uri": "gcr.io/deeplearning-platform-release/tf2-gpu:latest"
  },
  "kernelspec": {
   "display_name": "TensorFlow 2 (Local)",
   "language": "python",
   "name": "local-tf2"
  },
  "language_info": {
   "codemirror_mode": {
    "name": "ipython",
    "version": 3
   },
   "file_extension": ".py",
   "mimetype": "text/x-python",
   "name": "python",
   "nbconvert_exporter": "python",
   "pygments_lexer": "ipython3",
   "version": "3.7.12"
  }
 },
 "nbformat": 4,
 "nbformat_minor": 5
}
