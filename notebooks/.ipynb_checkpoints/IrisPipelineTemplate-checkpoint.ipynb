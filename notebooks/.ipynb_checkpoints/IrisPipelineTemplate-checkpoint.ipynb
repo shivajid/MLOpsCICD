{
 "cells": [
  {
   "cell_type": "code",
   "execution_count": null,
   "id": "473ca9fc-7334-4a65-bfd6-5017f62a39bc",
   "metadata": {},
   "outputs": [],
   "source": []
  },
  {
   "cell_type": "code",
   "execution_count": 5,
   "id": "f102b0c9-66b0-46fb-95cf-e8d51edc8a7b",
   "metadata": {},
   "outputs": [],
   "source": [
    "# TODO Please update the project id before running the code\n",
    "\n"
   ]
  },
  {
   "cell_type": "code",
   "execution_count": 8,
   "id": "dead7c3b-78ea-4de2-92aa-ad5a4083c6cc",
   "metadata": {},
   "outputs": [
    {
     "name": "stdout",
     "output_type": "stream",
     "text": [
      "Overwriting ../trainer/pipeline.py\n"
     ]
    }
   ],
   "source": [
    "%%writefile ../trainer/pipeline.py\n",
    "#This is a simple pipeline that is used to load and run pipeline\n",
    "\n",
    "import kfp\n",
    "from kfp.v2 import compiler\n",
    "from kfp.v2.google.client import AIPlatformClient\n",
    "from google.cloud import aiplatform\n",
    "from google.cloud import aiplatform as aip\n",
    "from google_cloud_pipeline_components import aiplatform as gcc_aip\n",
    "from kfp.v2 import compiler\n",
    "\n",
    "# Change the Project ID\n",
    "#PROJECT_ID =\"[YOUR PROJECT ID]\"\n",
    "#BUCKET_LOC = \"[Your staging bucket locations]\"\n",
    "#PIPELINE_NAME=\"[Your Pipeline Name]\"\n",
    "\n",
    "PROJECT_ID =\"demogct\"\n",
    "BUCKET_LOC = \"gs://demogct/vipipelines/\"\n",
    "PIPELINE_NAME=\"sd-vertex-pipeline\"\n",
    "\n",
    "\n",
    "aip.init(project=PROJECT_ID, staging_bucket=BUCKET_LOC)\n",
    "\n",
    "@kfp.dsl.pipeline(name=PIPELINE_NAME)\n",
    "def pipeline(project: str = PROJECT_ID):\n",
    "    ds_op = gcc_aip.ImageDatasetCreateOp(\n",
    "        project=project,\n",
    "        display_name=\"flowers\",\n",
    "        gcs_source=\"gs://cloud-samples-data/vision/automl_classification/flowers/all_data_v2.csv\",\n",
    "        import_schema_uri=aip.schema.dataset.ioformat.image.single_label_classification,\n",
    "    )\n",
    "\n",
    "    training_job_run_op = gcc_aip.AutoMLImageTrainingJobRunOp(\n",
    "        project=project,\n",
    "        display_name=\"train-automl-flowers\",\n",
    "        prediction_type=\"classification\",\n",
    "        model_type=\"CLOUD\",\n",
    "        base_model=None,\n",
    "        dataset=ds_op.outputs[\"dataset\"],\n",
    "        model_display_name=\"train-automl-flowers\",\n",
    "        training_fraction_split=0.7,\n",
    "        validation_fraction_split=0.2,\n",
    "        test_fraction_split=0.1,\n",
    "        budget_milli_node_hours=8000,\n",
    "    )\n",
    "    # 0.1.7 is needed currently to address a bug in the latest container image\n",
    "    gcc_aip.ModelDeployOp.component_spec.implementation.container.image = (\"gcr.io/ml-pipeline/google-cloud-pipeline-components:0.1.7\")\n",
    " \n",
    "    \n",
    "    endpoint_op = gcc_aip.ModelDeployOp(  \n",
    "         model=training_job_run_op.outputs[\"model\"],\n",
    "         project=\"demogct\"\n",
    "    )\n",
    "  \n",
    "\n",
    "\n",
    "compiler.Compiler().compile(\n",
    "    pipeline_func=pipeline,\n",
    "    package_path=\"image classification_pipeline.json\".replace(\" \", \"_\"),\n",
    ")"
   ]
  },
  {
   "cell_type": "code",
   "execution_count": null,
   "id": "364535f0-8942-467c-9a55-5880e1b05d70",
   "metadata": {},
   "outputs": [],
   "source": []
  }
 ],
 "metadata": {
  "environment": {
   "name": "common-cpu.m80",
   "type": "gcloud",
   "uri": "gcr.io/deeplearning-platform-release/base-cpu:m80"
  },
  "kernelspec": {
   "display_name": "Python 3",
   "language": "python",
   "name": "python3"
  },
  "language_info": {
   "codemirror_mode": {
    "name": "ipython",
    "version": 3
   },
   "file_extension": ".py",
   "mimetype": "text/x-python",
   "name": "python",
   "nbconvert_exporter": "python",
   "pygments_lexer": "ipython3",
   "version": "3.7.10"
  }
 },
 "nbformat": 4,
 "nbformat_minor": 5
}
