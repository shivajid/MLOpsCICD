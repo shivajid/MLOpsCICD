{
 "cells": [
  {
   "cell_type": "code",
   "execution_count": 1,
   "id": "8f414eea-c832-4668-8dec-99f631006de2",
   "metadata": {},
   "outputs": [],
   "source": [
    "# Copyright 2021 Google LLC\n",
    "#\n",
    "# Licensed under the Apache License, Version 2.0 (the \"License\");\n",
    "# you may not use this file except in compliance with the License.\n",
    "# You may obtain a copy of the License at\n",
    "#\n",
    "#     https://www.apache.org/licenses/LICENSE-2.0\n",
    "#\n",
    "# Unless required by applicable law or agreed to in writing, software\n",
    "# distributed under the License is distributed on an \"AS IS\" BASIS,\n",
    "# WITHOUT WARRANTIES OR CONDITIONS OF ANY KIND, either express or implied.\n",
    "# See the License for the specific language governing permissions and\n",
    "# limitations under the License."
   ]
  },
  {
   "cell_type": "markdown",
   "id": "fb686751-4654-4b4a-8720-8aff1a5e090d",
   "metadata": {},
   "source": [
    "## CI/CD\n",
    "\n",
    "This is a notebook for setting up a cloud build. In this notebook well demonstrate the process \n",
    "Working with Google Source Code\n",
    "- Setup a Source Repository\n",
    "- Kick off a Cloud Build\n",
    "\n"
   ]
  },
  {
   "cell_type": "code",
   "execution_count": 2,
   "id": "6e1094cf-9cba-4254-90c1-7914e9f6e74b",
   "metadata": {},
   "outputs": [],
   "source": [
    "import os\n",
    "\n",
    "# Google Cloud Notebook\n",
    "if os.path.exists(\"/opt/deeplearning/metadata/env_version\"):\n",
    "    USER_FLAG = \"--user\"\n",
    "else:\n",
    "    USER_FLAG = \"\""
   ]
  },
  {
   "cell_type": "raw",
   "id": "8c49983d-a58b-4ead-b250-7d5ecceda3bf",
   "metadata": {},
   "source": [
    "# Run this cell if your have not done this before in the VM instance\n",
    "! pip3 install --upgrade google-cloud-aiplatform $USER_FLAG"
   ]
  },
  {
   "cell_type": "raw",
   "id": "71875114-1865-4b05-942b-84741ab2e9f2",
   "metadata": {},
   "source": [
    "# In the next cell you will update the PROJECT_ID\n",
    "#PROJECT_ID = \"[your-project-id]\"  # @param {type:\"string\"}\n",
    "#INITIALS = \"[your-initials]\"\n",
    "#REPO_NAME = \"[your-repo-name]\" #@param {type:\"string\"}"
   ]
  },
  {
   "cell_type": "code",
   "execution_count": 3,
   "id": "1ebc6e8b-f378-47b2-83c2-4cb0d6c40bfd",
   "metadata": {},
   "outputs": [],
   "source": [
    "PROJECT_ID = \"demogct\"  # @param {type:\"string\"}\n",
    "INITIALS = \"shivajid\"\n",
    "REPO_NAME = \"cicd-pipeline-repo\" #@param {type:\"string\"}"
   ]
  },
  {
   "cell_type": "markdown",
   "id": "49a86656-0b26-4eb3-ba58-86dcac479f7c",
   "metadata": {},
   "source": [
    "### Create the Google Clous Source Repo\n",
    "\n",
    "Follow the Cloud Source repo documentation to understand more.\n",
    "\n",
    "[Cloud Source Repository](https://cloud.google.com/source-repositories/docs/quickstart)\n",
    "\n"
   ]
  },
  {
   "cell_type": "code",
   "execution_count": 2,
   "id": "e5d90228-9622-4c31-9cee-8c46c8f4b12b",
   "metadata": {},
   "outputs": [
    {
     "name": "stdout",
     "output_type": "stream",
     "text": [
      "Created [cicd-pipeline-repo].\n",
      "\u001b[1;33mWARNING:\u001b[0m You may be billed for this repository. See https://cloud.google.com/source-repositories/docs/pricing for details.\n"
     ]
    }
   ],
   "source": [
    "# Create a Repository\n",
    "! gcloud source repos create {REPO_NAME}"
   ]
  },
  {
   "cell_type": "code",
   "execution_count": 3,
   "id": "7b963f00-ca43-4d1a-b5e9-3c2c33a45c86",
   "metadata": {},
   "outputs": [
    {
     "name": "stdout",
     "output_type": "stream",
     "text": [
      "REPO_NAME           PROJECT_ID  URL\n",
      "cicd-pipeline-repo  demogct     https://source.developers.google.com/p/demogct/r/cicd-pipeline-repo\n",
      "hello-world         demogct     https://source.developers.google.com/p/demogct/r/hello-world\n",
      "hello-world2        demogct     https://source.developers.google.com/p/demogct/r/hello-world2\n",
      "mayo-pipeline-repo  demogct     https://source.developers.google.com/p/demogct/r/mayo-pipeline-repo\n"
     ]
    }
   ],
   "source": [
    "#Check if the repo is created\n",
    "! gcloud source repos list"
   ]
  },
  {
   "cell_type": "markdown",
   "id": "66f40daa-64eb-4dde-95ce-7101dcc7c0cd",
   "metadata": {},
   "source": [
    "## Now next clone the repo"
   ]
  },
  {
   "cell_type": "markdown",
   "id": "a081ebde-e502-4050-9bff-c238818f2934",
   "metadata": {},
   "source": [
    "### Working with Cloud Source Repo\n",
    "Once you have created the repo you will want to clone the repo.\n",
    "\n",
    "**! gcloud source repos clone {REPO_NAME}**\n",
    "\n",
    "This will setup your folder to be able to work with the source control system.\n",
    "\n",
    "\n",
    "You should copy the workshop code into the directory you clone the code. This way you will be able to work with Source Repository.\n",
    "\n",
    "Next cell describes the git commands. I would recommend that you execute these commands from a Terminal Window.\n",
    "\n",
    "\n"
   ]
  },
  {
   "cell_type": "code",
   "execution_count": 11,
   "id": "fcd3b673-9d63-428e-b9f2-8463abd31899",
   "metadata": {},
   "outputs": [],
   "source": [
    "# Run the Following Git commands from a terminal\n",
    "# Change your directory to the {REPO_DIRECTORY}\n",
    "# git add .\n",
    "# git commit -m \"Your first python notebook\"\n",
    "# git push"
   ]
  },
  {
   "cell_type": "code",
   "execution_count": 12,
   "id": "f5287e82-b84c-4599-b4dc-27021e17582d",
   "metadata": {},
   "outputs": [],
   "source": [
    "# The above steps will let you change your changes to your gogole cloud source repository"
   ]
  },
  {
   "cell_type": "markdown",
   "id": "edbc3afa-8f1f-4150-9e28-be634aec0f5d",
   "metadata": {},
   "source": [
    "## Create a Build Trigger"
   ]
  },
  {
   "cell_type": "markdown",
   "id": "44b69537-6a09-4ea9-88a9-2e600bddb4f2",
   "metadata": {},
   "source": [
    "Build triggers allows a user to trigger a code build and deploy on the source code checkin.\n",
    "\n",
    "Follow the steps in the [Quick Start Guide to Enable Cloud Build](https://cloud.google.com/build/docs/quickstart-build) and Setup the trigger."
   ]
  },
  {
   "cell_type": "markdown",
   "id": "7b73b3e9-fa75-4253-980b-a9aa80fc9a35",
   "metadata": {},
   "source": []
  },
  {
   "cell_type": "markdown",
   "id": "f383950a-92c0-4d2a-b386-01cc147b6000",
   "metadata": {},
   "source": [
    "## Manually Triggering a build\n",
    "\n",
    "Apart from buld triggers you can also kick off a build manually using the gcloud command.\n",
    "\n",
    "\n",
    "Run the following command from the home directory in a terminal window.\n",
    "\n",
    "**gcloud builds submit --config cloudbuild.yaml --timeout=1000**"
   ]
  },
  {
   "cell_type": "markdown",
   "id": "b94de93c-0815-4604-b24d-391e82779a18",
   "metadata": {},
   "source": []
  },
  {
   "cell_type": "markdown",
   "id": "0aa671dc-9abc-4064-8f68-64bd64815a3e",
   "metadata": {},
   "source": []
  },
  {
   "cell_type": "code",
   "execution_count": null,
   "id": "95739246-6587-4e20-b241-a68cbf91a189",
   "metadata": {},
   "outputs": [],
   "source": []
  },
  {
   "cell_type": "markdown",
   "id": "b673be77-f788-4dac-bd3d-49eaf827aecd",
   "metadata": {},
   "source": [
    "### Pub sub to the source Code\n",
    "\n",
    "[Optional]\n",
    "You can attach Pub Sub Topic to your Source code. This will enable you to get subscription notification when you get your code.\n",
    "\n",
    "- Create a topic\n",
    "- Create a Subscriber\n",
    "- Attach the topic to the subscriber\n"
   ]
  },
  {
   "cell_type": "code",
   "execution_count": 14,
   "id": "0210bce6-2760-4958-9029-ab692c672a7b",
   "metadata": {},
   "outputs": [
    {
     "name": "stdout",
     "output_type": "stream",
     "text": [
      "Created topic [projects/demogct/topics/source-test].\n"
     ]
    }
   ],
   "source": [
    "# Creat A Pub Sub\n",
    "\n",
    "! gcloud pubsub topics create projects/$PROJECT_ID/topics/source-test\n"
   ]
  },
  {
   "cell_type": "code",
   "execution_count": null,
   "id": "b1bd0503-dc8d-4b26-a4f0-6b57cfcfb1f7",
   "metadata": {},
   "outputs": [],
   "source": [
    "# Create a subscriber\n",
    "\n",
    "! gcloud pubsub subscriptions create source-subscription-test --topic=source-test"
   ]
  },
  {
   "cell_type": "code",
   "execution_count": 16,
   "id": "70978fb5-6c8d-4b57-8483-ab37d7308b3f",
   "metadata": {},
   "outputs": [
    {
     "name": "stdout",
     "output_type": "stream",
     "text": [
      "name: projects/demogct/repos/mayo-pipeline-repo\n",
      "pubsubConfigs:\n",
      "  projects/demogct/topics/source-test:\n",
      "    messageFormat: JSON\n",
      "    serviceAccountEmail: 313681173937-compute@developer.gserviceaccount.com\n",
      "    topic: projects/demogct/topics/source-test\n",
      "url: https://source.developers.google.com/p/demogct/r/mayo-pipeline-repo\n"
     ]
    }
   ],
   "source": [
    "! gcloud source repos update {REPO_NAME} --add-topic=source-test"
   ]
  },
  {
   "cell_type": "markdown",
   "id": "94747936-137f-496f-913c-064891900d6e",
   "metadata": {},
   "source": [
    "## Done\n",
    "\n",
    "Now that you have \n",
    "\n",
    "- You create Cloud Source Repo\n",
    "- Enabled Cloud Build\n",
    "- Created A Build Trigger\n",
    "\n",
    "You should be able to change some code and kick off a build.\n",
    "\n",
    "I would suggest changing the \"Pipeline Name\" in the code to kick of the Build"
   ]
  },
  {
   "cell_type": "code",
   "execution_count": null,
   "id": "062fca46-fd19-4c43-a397-9ac05ca22105",
   "metadata": {},
   "outputs": [],
   "source": []
  }
 ],
 "metadata": {
  "environment": {
   "name": "common-cpu.m80",
   "type": "gcloud",
   "uri": "gcr.io/deeplearning-platform-release/base-cpu:m80"
  },
  "kernelspec": {
   "display_name": "Python 3",
   "language": "python",
   "name": "python3"
  },
  "language_info": {
   "codemirror_mode": {
    "name": "ipython",
    "version": 3
   },
   "file_extension": ".py",
   "mimetype": "text/x-python",
   "name": "python",
   "nbconvert_exporter": "python",
   "pygments_lexer": "ipython3",
   "version": "3.7.10"
  }
 },
 "nbformat": 4,
 "nbformat_minor": 5
}
