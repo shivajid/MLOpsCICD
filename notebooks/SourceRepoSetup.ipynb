{
 "cells": [
  {
   "cell_type": "markdown",
   "id": "fb686751-4654-4b4a-8720-8aff1a5e090d",
   "metadata": {
    "jp-MarkdownHeadingCollapsed": true,
    "tags": []
   },
   "source": [
    "## CI/CD\n",
    "\n",
    "This is a notebook for setting up a cloud build. In this notebook well demonstrate the process \n",
    "Working with Google Source Code\n",
    "- Setup a Source Repository\n",
    "- Change a pipeline\n",
    "- Kick off a Cloud Build\n"
   ]
  },
  {
   "cell_type": "code",
   "execution_count": 1,
   "id": "6e1094cf-9cba-4254-90c1-7914e9f6e74b",
   "metadata": {},
   "outputs": [],
   "source": [
    "import os\n",
    "\n",
    "# Google Cloud Notebook\n",
    "if os.path.exists(\"/opt/deeplearning/metadata/env_version\"):\n",
    "    USER_FLAG = \"--user\"\n",
    "else:\n",
    "    USER_FLAG = \"\""
   ]
  },
  {
   "cell_type": "code",
   "execution_count": 2,
   "id": "ae4b5bd4-b9e6-494b-9935-8b0450070432",
   "metadata": {},
   "outputs": [
    {
     "name": "stdout",
     "output_type": "stream",
     "text": [
      "Requirement already satisfied: google-cloud-aiplatform in ./.local/lib/python3.7/site-packages (1.6.2)\n",
      "Requirement already satisfied: packaging>=14.3 in /opt/conda/lib/python3.7/site-packages (from google-cloud-aiplatform) (21.0)\n",
      "Requirement already satisfied: proto-plus>=1.10.1 in /opt/conda/lib/python3.7/site-packages (from google-cloud-aiplatform) (1.19.0)\n",
      "Requirement already satisfied: google-cloud-storage<2.0.0dev,>=1.32.0 in ./.local/lib/python3.7/site-packages (from google-cloud-aiplatform) (1.42.3)\n",
      "Requirement already satisfied: google-api-core[grpc]<3.0.0dev,>=1.26.0 in /opt/conda/lib/python3.7/site-packages (from google-cloud-aiplatform) (1.31.2)\n",
      "Requirement already satisfied: google-cloud-bigquery<3.0.0dev,>=1.15.0 in /opt/conda/lib/python3.7/site-packages (from google-cloud-aiplatform) (2.26.0)\n",
      "Requirement already satisfied: google-auth<2.0dev,>=1.25.0 in /opt/conda/lib/python3.7/site-packages (from google-api-core[grpc]<3.0.0dev,>=1.26.0->google-cloud-aiplatform) (1.35.0)\n",
      "Requirement already satisfied: pytz in /opt/conda/lib/python3.7/site-packages (from google-api-core[grpc]<3.0.0dev,>=1.26.0->google-cloud-aiplatform) (2021.1)\n",
      "Requirement already satisfied: requests<3.0.0dev,>=2.18.0 in /opt/conda/lib/python3.7/site-packages (from google-api-core[grpc]<3.0.0dev,>=1.26.0->google-cloud-aiplatform) (2.25.1)\n",
      "Requirement already satisfied: six>=1.13.0 in /opt/conda/lib/python3.7/site-packages (from google-api-core[grpc]<3.0.0dev,>=1.26.0->google-cloud-aiplatform) (1.15.0)\n",
      "Requirement already satisfied: protobuf>=3.12.0 in /opt/conda/lib/python3.7/site-packages (from google-api-core[grpc]<3.0.0dev,>=1.26.0->google-cloud-aiplatform) (3.18.0)\n",
      "Requirement already satisfied: setuptools>=40.3.0 in /opt/conda/lib/python3.7/site-packages (from google-api-core[grpc]<3.0.0dev,>=1.26.0->google-cloud-aiplatform) (58.0.4)\n",
      "Requirement already satisfied: googleapis-common-protos<2.0dev,>=1.6.0 in /opt/conda/lib/python3.7/site-packages (from google-api-core[grpc]<3.0.0dev,>=1.26.0->google-cloud-aiplatform) (1.53.0)\n",
      "Requirement already satisfied: grpcio<2.0dev,>=1.29.0 in /opt/conda/lib/python3.7/site-packages (from google-api-core[grpc]<3.0.0dev,>=1.26.0->google-cloud-aiplatform) (1.38.1)\n",
      "Requirement already satisfied: cachetools<5.0,>=2.0.0 in /opt/conda/lib/python3.7/site-packages (from google-auth<2.0dev,>=1.25.0->google-api-core[grpc]<3.0.0dev,>=1.26.0->google-cloud-aiplatform) (4.2.2)\n",
      "Requirement already satisfied: rsa<5,>=3.1.4 in /opt/conda/lib/python3.7/site-packages (from google-auth<2.0dev,>=1.25.0->google-api-core[grpc]<3.0.0dev,>=1.26.0->google-cloud-aiplatform) (4.7.2)\n",
      "Requirement already satisfied: pyasn1-modules>=0.2.1 in /opt/conda/lib/python3.7/site-packages (from google-auth<2.0dev,>=1.25.0->google-api-core[grpc]<3.0.0dev,>=1.26.0->google-cloud-aiplatform) (0.2.7)\n",
      "Requirement already satisfied: google-resumable-media<3.0dev,>=0.6.0 in /opt/conda/lib/python3.7/site-packages (from google-cloud-bigquery<3.0.0dev,>=1.15.0->google-cloud-aiplatform) (2.0.3)\n",
      "Requirement already satisfied: google-cloud-core<3.0.0dev,>=1.4.1 in /opt/conda/lib/python3.7/site-packages (from google-cloud-bigquery<3.0.0dev,>=1.15.0->google-cloud-aiplatform) (2.0.0)\n",
      "Requirement already satisfied: google-crc32c<2.0dev,>=1.0 in /opt/conda/lib/python3.7/site-packages (from google-resumable-media<3.0dev,>=0.6.0->google-cloud-bigquery<3.0.0dev,>=1.15.0->google-cloud-aiplatform) (1.2.0)\n",
      "Requirement already satisfied: pyparsing>=2.0.2 in /opt/conda/lib/python3.7/site-packages (from packaging>=14.3->google-cloud-aiplatform) (2.4.7)\n",
      "Requirement already satisfied: pyasn1<0.5.0,>=0.4.6 in /opt/conda/lib/python3.7/site-packages (from pyasn1-modules>=0.2.1->google-auth<2.0dev,>=1.25.0->google-api-core[grpc]<3.0.0dev,>=1.26.0->google-cloud-aiplatform) (0.4.8)\n",
      "Requirement already satisfied: urllib3<1.27,>=1.21.1 in /opt/conda/lib/python3.7/site-packages (from requests<3.0.0dev,>=2.18.0->google-api-core[grpc]<3.0.0dev,>=1.26.0->google-cloud-aiplatform) (1.26.6)\n",
      "Requirement already satisfied: idna<3,>=2.5 in /opt/conda/lib/python3.7/site-packages (from requests<3.0.0dev,>=2.18.0->google-api-core[grpc]<3.0.0dev,>=1.26.0->google-cloud-aiplatform) (2.10)\n",
      "Requirement already satisfied: certifi>=2017.4.17 in /opt/conda/lib/python3.7/site-packages (from requests<3.0.0dev,>=2.18.0->google-api-core[grpc]<3.0.0dev,>=1.26.0->google-cloud-aiplatform) (2021.5.30)\n",
      "Requirement already satisfied: chardet<5,>=3.0.2 in /opt/conda/lib/python3.7/site-packages (from requests<3.0.0dev,>=2.18.0->google-api-core[grpc]<3.0.0dev,>=1.26.0->google-cloud-aiplatform) (4.0.0)\n"
     ]
    }
   ],
   "source": [
    "! pip3 install --upgrade google-cloud-aiplatform $USER_FLAG"
   ]
  },
  {
   "cell_type": "code",
   "execution_count": 3,
   "id": "ec5f2716-05e3-4a4d-adee-511dba8a7311",
   "metadata": {},
   "outputs": [],
   "source": [
    "#PROJECT_ID = \"[your-project-id]\"  # @param {type:\"string\"}\n",
    "#INITIALS = \"[your-initials]\"\n",
    "#REPO_NAME = \"[your-repo-name]\" #@param {type:\"string\"}"
   ]
  },
  {
   "cell_type": "code",
   "execution_count": 1,
   "id": "1ebc6e8b-f378-47b2-83c2-4cb0d6c40bfd",
   "metadata": {},
   "outputs": [],
   "source": [
    "PROJECT_ID = \"demogct\"  # @param {type:\"string\"}\n",
    "INITIALS = \"shivajid\"\n",
    "REPO_NAME = \"cicd-pipeline-repo\" #@param {type:\"string\"}"
   ]
  },
  {
   "cell_type": "code",
   "execution_count": 2,
   "id": "e5d90228-9622-4c31-9cee-8c46c8f4b12b",
   "metadata": {},
   "outputs": [
    {
     "name": "stdout",
     "output_type": "stream",
     "text": [
      "Created [cicd-pipeline-repo].\n",
      "\u001b[1;33mWARNING:\u001b[0m You may be billed for this repository. See https://cloud.google.com/source-repositories/docs/pricing for details.\n"
     ]
    }
   ],
   "source": [
    "# Create a Repository\n",
    "! gcloud source repos create {REPO_NAME}"
   ]
  },
  {
   "cell_type": "code",
   "execution_count": 3,
   "id": "7b963f00-ca43-4d1a-b5e9-3c2c33a45c86",
   "metadata": {},
   "outputs": [
    {
     "name": "stdout",
     "output_type": "stream",
     "text": [
      "REPO_NAME           PROJECT_ID  URL\n",
      "cicd-pipeline-repo  demogct     https://source.developers.google.com/p/demogct/r/cicd-pipeline-repo\n",
      "hello-world         demogct     https://source.developers.google.com/p/demogct/r/hello-world\n",
      "hello-world2        demogct     https://source.developers.google.com/p/demogct/r/hello-world2\n",
      "mayo-pipeline-repo  demogct     https://source.developers.google.com/p/demogct/r/mayo-pipeline-repo\n"
     ]
    }
   ],
   "source": [
    "#Check if the repo is created\n",
    "! gcloud source repos list"
   ]
  },
  {
   "cell_type": "code",
   "execution_count": 7,
   "id": "07e5a7fd-d4fb-4f0e-b683-210cb5be899f",
   "metadata": {},
   "outputs": [],
   "source": [
    "# Now next clone the repo"
   ]
  },
  {
   "cell_type": "code",
   "execution_count": 8,
   "id": "3cb658a7-6871-4a2f-a957-14e993871707",
   "metadata": {},
   "outputs": [
    {
     "name": "stdout",
     "output_type": "stream",
     "text": [
      "Cloning into '/home/jupyter/mayo-pipeline-repo'...\n",
      "warning: You appear to have cloned an empty repository.\n",
      "Project [demogct] repository [mayo-pipeline-repo] was cloned to [/home/jupyter/mayo-pipeline-repo].\n"
     ]
    }
   ],
   "source": [
    "! gcloud source repos clone {REPO_NAME}"
   ]
  },
  {
   "cell_type": "code",
   "execution_count": 9,
   "id": "4c2b0c8d-d4a5-43ca-97ba-c5c2d25538d6",
   "metadata": {},
   "outputs": [],
   "source": [
    "# Copy the Iris Flower Classification Python Notebook to the {REPO Folder}\n"
   ]
  },
  {
   "cell_type": "code",
   "execution_count": 11,
   "id": "fcd3b673-9d63-428e-b9f2-8463abd31899",
   "metadata": {},
   "outputs": [],
   "source": [
    "# Run the Following Git commands from a terminal\n",
    "# Change your directory to the {REPO_DIRECTORY}\n",
    "# git add .\n",
    "# git commit -m \"Your first python notebook\"\n",
    "# git push"
   ]
  },
  {
   "cell_type": "code",
   "execution_count": 12,
   "id": "f5287e82-b84c-4599-b4dc-27021e17582d",
   "metadata": {},
   "outputs": [],
   "source": [
    "# The above steps will let you change your changes to your gogole cloud source repository"
   ]
  },
  {
   "cell_type": "markdown",
   "id": "edbc3afa-8f1f-4150-9e28-be634aec0f5d",
   "metadata": {},
   "source": [
    "### Create CloudBuild"
   ]
  },
  {
   "cell_type": "code",
   "execution_count": 17,
   "id": "969a9cf9-baaa-47b1-a258-b16b559d348a",
   "metadata": {},
   "outputs": [],
   "source": [
    "## Enable the CloudBuild API"
   ]
  },
  {
   "cell_type": "markdown",
   "id": "142e0db0-7059-4021-ac8e-db0b98bbe8b3",
   "metadata": {
    "tags": []
   },
   "source": [
    "### Create the cloudbbuild.yaml"
   ]
  },
  {
   "cell_type": "code",
   "execution_count": null,
   "id": "53829742-d6aa-444c-bb5e-3345e1271b95",
   "metadata": {},
   "outputs": [],
   "source": []
  },
  {
   "cell_type": "markdown",
   "id": "b673be77-f788-4dac-bd3d-49eaf827aecd",
   "metadata": {},
   "source": [
    "### Lets us create pub sub to the Source Code"
   ]
  },
  {
   "cell_type": "code",
   "execution_count": null,
   "id": "1ff9e8f7-f17c-4618-bb88-29beb15daa48",
   "metadata": {},
   "outputs": [],
   "source": []
  },
  {
   "cell_type": "code",
   "execution_count": null,
   "id": "aef8467e-e620-4a62-977a-5a9ad0ec16dc",
   "metadata": {},
   "outputs": [],
   "source": []
  },
  {
   "cell_type": "code",
   "execution_count": null,
   "id": "9c3d56fa-fd5c-4d8c-8b41-fac96d2b8dd7",
   "metadata": {},
   "outputs": [],
   "source": []
  },
  {
   "cell_type": "code",
   "execution_count": 14,
   "id": "0210bce6-2760-4958-9029-ab692c672a7b",
   "metadata": {},
   "outputs": [
    {
     "name": "stdout",
     "output_type": "stream",
     "text": [
      "Created topic [projects/demogct/topics/source-test].\n"
     ]
    }
   ],
   "source": [
    "# Creat A Pub Sub\n",
    "\n",
    "! gcloud pubsub topics create projects/$PROJECT_ID/topics/source-test\n"
   ]
  },
  {
   "cell_type": "code",
   "execution_count": 15,
   "id": "1d14c943-2fa6-46a8-9824-0f53d51312de",
   "metadata": {},
   "outputs": [
    {
     "name": "stdout",
     "output_type": "stream",
     "text": [
      "Created subscription [projects/demogct/subscriptions/source-subscription-test].\n"
     ]
    }
   ],
   "source": [
    "! gcloud pubsub subscriptions create source-subscription-test --topic=source-test"
   ]
  },
  {
   "cell_type": "code",
   "execution_count": 16,
   "id": "70978fb5-6c8d-4b57-8483-ab37d7308b3f",
   "metadata": {},
   "outputs": [
    {
     "name": "stdout",
     "output_type": "stream",
     "text": [
      "name: projects/demogct/repos/mayo-pipeline-repo\n",
      "pubsubConfigs:\n",
      "  projects/demogct/topics/source-test:\n",
      "    messageFormat: JSON\n",
      "    serviceAccountEmail: 313681173937-compute@developer.gserviceaccount.com\n",
      "    topic: projects/demogct/topics/source-test\n",
      "url: https://source.developers.google.com/p/demogct/r/mayo-pipeline-repo\n"
     ]
    }
   ],
   "source": [
    "! gcloud source repos update mayo-pipeline-repo --add-topic=source-test"
   ]
  },
  {
   "cell_type": "code",
   "execution_count": null,
   "id": "b3c25f95-430d-4cec-b059-7094bd8ee096",
   "metadata": {},
   "outputs": [],
   "source": []
  }
 ],
 "metadata": {
  "environment": {
   "name": "common-cpu.m80",
   "type": "gcloud",
   "uri": "gcr.io/deeplearning-platform-release/base-cpu:m80"
  },
  "kernelspec": {
   "display_name": "Python 3",
   "language": "python",
   "name": "python3"
  },
  "language_info": {
   "codemirror_mode": {
    "name": "ipython",
    "version": 3
   },
   "file_extension": ".py",
   "mimetype": "text/x-python",
   "name": "python",
   "nbconvert_exporter": "python",
   "pygments_lexer": "ipython3",
   "version": "3.7.10"
  }
 },
 "nbformat": 4,
 "nbformat_minor": 5
}
