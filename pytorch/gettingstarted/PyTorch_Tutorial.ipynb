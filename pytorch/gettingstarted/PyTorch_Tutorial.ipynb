{
 "cells": [
  {
   "cell_type": "code",
   "execution_count": 1,
   "id": "75742b93-ae96-45cc-b66f-b7d2c55ea213",
   "metadata": {},
   "outputs": [],
   "source": [
    "import tensorflow"
   ]
  },
  {
   "cell_type": "code",
   "execution_count": 5,
   "id": "b9c22adb-530c-48c5-8cd9-5fdaff49df14",
   "metadata": {},
   "outputs": [],
   "source": [
    "import torch\n",
    "import tqdm\n",
    "import os\n",
    "from torch import nn\n",
    "from torch.utils.data import DataLoader\n",
    "from torchvision import datasets, transforms"
   ]
  },
  {
   "cell_type": "code",
   "execution_count": 6,
   "id": "227383b4-a278-4347-bfb8-529f444295d2",
   "metadata": {},
   "outputs": [
    {
     "name": "stdout",
     "output_type": "stream",
     "text": [
      "Using cpu device\n"
     ]
    }
   ],
   "source": [
    "device = \"cuda\" if torch.cuda.is_available() else \"cpu\"\n",
    "print(f\"Using {device} device\")"
   ]
  },
  {
   "cell_type": "code",
   "execution_count": 13,
   "id": "490ec51b-98ef-4b10-866c-ff078bf8c269",
   "metadata": {},
   "outputs": [],
   "source": [
    "class NeuralNetwork(nn.Module):\n",
    "    def __init__(self):\n",
    "        super(NeuralNetwork, self).__init__()\n",
    "        self.flatten = nn.Flatten()\n",
    "        self.linear_relu_stack = nn.Sequential(\n",
    "            nn.Linear(28*28, 512),\n",
    "            nn.ReLU(),\n",
    "            nn.Linear(512,512),\n",
    "            nn.ReLU(),\n",
    "            nn.Linear(512,10),\n",
    "        )\n",
    "    \n",
    "    def forward (self, x):\n",
    "        x = self.flatten(x)\n",
    "        logits = self.linear_relu_stack(x)\n",
    "        return logits\n",
    "    \n",
    "    "
   ]
  },
  {
   "cell_type": "code",
   "execution_count": 14,
   "id": "963e9139-2fed-484f-b276-00005a82fb89",
   "metadata": {},
   "outputs": [],
   "source": [
    "model = NeuralNetwork().to(device)"
   ]
  },
  {
   "cell_type": "code",
   "execution_count": 15,
   "id": "03c0b317-0cc0-4652-bac1-3c1e7141e0b4",
   "metadata": {},
   "outputs": [
    {
     "data": {
      "text/plain": [
       "NeuralNetwork(\n",
       "  (flatten): Flatten(start_dim=1, end_dim=-1)\n",
       "  (linear_relu_stack): Sequential(\n",
       "    (0): Linear(in_features=784, out_features=512, bias=True)\n",
       "    (1): ReLU()\n",
       "    (2): Linear(in_features=512, out_features=512, bias=True)\n",
       "    (3): ReLU()\n",
       "    (4): Linear(in_features=512, out_features=10, bias=True)\n",
       "  )\n",
       ")"
      ]
     },
     "execution_count": 15,
     "metadata": {},
     "output_type": "execute_result"
    }
   ],
   "source": [
    "model"
   ]
  },
  {
   "cell_type": "code",
   "execution_count": 32,
   "id": "8476d4b9-b721-448e-aa27-b1fbb0a565e5",
   "metadata": {},
   "outputs": [],
   "source": [
    "X = torch.rand(1,28,28, device=device)"
   ]
  },
  {
   "cell_type": "code",
   "execution_count": 33,
   "id": "e7381b92-f95d-4863-94cc-ce5732c2092e",
   "metadata": {},
   "outputs": [],
   "source": [
    "logits = model(X)"
   ]
  },
  {
   "cell_type": "code",
   "execution_count": 34,
   "id": "7224c4c5-a0d6-4416-8c69-1c073b2dfd3e",
   "metadata": {},
   "outputs": [],
   "source": [
    "pred_prob = nn.Softmax(dim=1)(logits)"
   ]
  },
  {
   "cell_type": "code",
   "execution_count": 35,
   "id": "3d603e7d-02dc-4c16-aa02-e315d5a2452e",
   "metadata": {},
   "outputs": [],
   "source": [
    "y_pred = pred_prob.argmax(1)"
   ]
  },
  {
   "cell_type": "code",
   "execution_count": 36,
   "id": "10e329a0-7f65-4e30-bb74-6ab343518a64",
   "metadata": {},
   "outputs": [
    {
     "data": {
      "text/plain": [
       "tensor([2])"
      ]
     },
     "execution_count": 36,
     "metadata": {},
     "output_type": "execute_result"
    }
   ],
   "source": [
    "y_pred"
   ]
  },
  {
   "cell_type": "code",
   "execution_count": 37,
   "id": "851500e8-7fb8-4e84-9b41-f278a2d42de7",
   "metadata": {},
   "outputs": [
    {
     "name": "stdout",
     "output_type": "stream",
     "text": [
      "torch.Size([3, 28, 28])\n"
     ]
    }
   ],
   "source": [
    "input_image = torch.rand(3,28,28)\n",
    "print(input_image.size())"
   ]
  },
  {
   "cell_type": "code",
   "execution_count": 43,
   "id": "71d52cb3-fe3f-4c40-aa00-79e084d09fbf",
   "metadata": {},
   "outputs": [
    {
     "data": {
      "text/plain": [
       "torch.Size([3, 784])"
      ]
     },
     "execution_count": 43,
     "metadata": {},
     "output_type": "execute_result"
    }
   ],
   "source": [
    "flatten = nn.Flatten()\n",
    "flat_image = flatten(input_image)\n",
    "flat_image.shape"
   ]
  },
  {
   "cell_type": "code",
   "execution_count": null,
   "id": "7f86a904-2a28-4a04-9f7b-7c8462964b62",
   "metadata": {},
   "outputs": [],
   "source": []
  },
  {
   "cell_type": "code",
   "execution_count": 46,
   "id": "e14fecad-ac37-43fd-bead-002f7fc2c956",
   "metadata": {},
   "outputs": [
    {
     "name": "stdout",
     "output_type": "stream",
     "text": [
      "torch.Size([3, 20])\n"
     ]
    }
   ],
   "source": [
    "layer1 = nn.Linear(in_features=28*28, out_features=20)\n",
    "hidden1 = layer1(flat_image)\n",
    "print(hidden1.size())"
   ]
  },
  {
   "cell_type": "code",
   "execution_count": 50,
   "id": "6492cca9-691d-475b-9ec3-e5938bd8506b",
   "metadata": {},
   "outputs": [
    {
     "name": "stdout",
     "output_type": "stream",
     "text": [
      "Before ReLU: tensor([[ 4.0074e-01, -4.9060e-02,  1.8367e-01,  5.3195e-01,  2.8700e-01,\n",
      "         -5.3820e-01, -3.4845e-01,  3.7501e-01,  2.5566e-01, -1.3479e-01,\n",
      "          3.1509e-01, -3.0438e-01,  4.5505e-01, -1.9505e-01,  2.9651e-01,\n",
      "         -1.9751e-02, -1.0258e-02, -3.0992e-01, -9.1907e-02, -8.3434e-03],\n",
      "        [-1.3046e-01, -4.3443e-01, -7.7687e-05,  1.4657e-01,  5.7243e-01,\n",
      "         -5.0668e-01, -1.7424e-01,  1.9370e-01,  2.5798e-01, -9.8439e-03,\n",
      "         -1.4310e-01,  1.7565e-01,  6.5850e-01, -4.7980e-01,  4.6074e-01,\n",
      "         -1.2130e-01,  6.9148e-02, -1.9052e-01, -3.5253e-01, -2.4710e-01],\n",
      "        [ 4.2937e-01, -3.8026e-01,  1.9067e-01,  8.5662e-01,  2.7768e-01,\n",
      "         -5.3431e-01, -2.9389e-01,  4.0502e-01,  7.2211e-03,  7.4831e-03,\n",
      "          9.7711e-02,  3.4824e-02,  5.7297e-01, -2.0743e-01,  3.8882e-01,\n",
      "          1.0785e-02,  1.5716e-01, -4.0131e-01,  3.6537e-02, -5.6328e-01]],\n",
      "       grad_fn=<AddmmBackward0>)\n",
      "\n",
      "\n",
      "After ReLU: tensor([[0.4007, 0.0000, 0.1837, 0.5319, 0.2870, 0.0000, 0.0000, 0.3750, 0.2557,\n",
      "         0.0000, 0.3151, 0.0000, 0.4551, 0.0000, 0.2965, 0.0000, 0.0000, 0.0000,\n",
      "         0.0000, 0.0000],\n",
      "        [0.0000, 0.0000, 0.0000, 0.1466, 0.5724, 0.0000, 0.0000, 0.1937, 0.2580,\n",
      "         0.0000, 0.0000, 0.1756, 0.6585, 0.0000, 0.4607, 0.0000, 0.0691, 0.0000,\n",
      "         0.0000, 0.0000],\n",
      "        [0.4294, 0.0000, 0.1907, 0.8566, 0.2777, 0.0000, 0.0000, 0.4050, 0.0072,\n",
      "         0.0075, 0.0977, 0.0348, 0.5730, 0.0000, 0.3888, 0.0108, 0.1572, 0.0000,\n",
      "         0.0365, 0.0000]], grad_fn=<ReluBackward0>)\n"
     ]
    }
   ],
   "source": [
    "print(f\"Before ReLU: {hidden1}\\n\\n\")\n",
    "hidden1 = nn.ReLU()(hidden1)\n",
    "print(f\"After ReLU: {hidden1}\")"
   ]
  },
  {
   "cell_type": "code",
   "execution_count": 52,
   "id": "cc10f7e0-5802-4ae2-ac10-964db484d001",
   "metadata": {},
   "outputs": [],
   "source": [
    "seq_modules = nn.Sequential( flatten, layer1, nn.ReLU(), nn.Linear(20,10))"
   ]
  },
  {
   "cell_type": "code",
   "execution_count": 53,
   "id": "6d373bac-8007-429e-aebb-3b75b2d6aea4",
   "metadata": {},
   "outputs": [],
   "source": [
    "input_image = torch.rand(3, 28,28)"
   ]
  },
  {
   "cell_type": "code",
   "execution_count": 54,
   "id": "481f3b32-4eec-461b-81cf-921eabcdea48",
   "metadata": {},
   "outputs": [],
   "source": [
    "logits = seq_modules(input_image)"
   ]
  },
  {
   "cell_type": "code",
   "execution_count": 56,
   "id": "66593d9d-e4aa-4883-a21f-935dba11dba5",
   "metadata": {},
   "outputs": [
    {
     "data": {
      "text/plain": [
       "torch.Size([3, 10])"
      ]
     },
     "execution_count": 56,
     "metadata": {},
     "output_type": "execute_result"
    }
   ],
   "source": [
    "logits.shape"
   ]
  },
  {
   "cell_type": "code",
   "execution_count": 57,
   "id": "9f32d270-6d9e-4432-adfe-87ae4174a34a",
   "metadata": {},
   "outputs": [],
   "source": [
    "softmax = nn.Softmax(dim=1)"
   ]
  },
  {
   "cell_type": "code",
   "execution_count": 58,
   "id": "f5d3d0e8-bdc5-4459-8f60-b16f7ca80433",
   "metadata": {},
   "outputs": [],
   "source": [
    "pred = softmax (logits)"
   ]
  },
  {
   "cell_type": "code",
   "execution_count": 60,
   "id": "b59b1cdc-195f-4e28-86aa-e847b1e42114",
   "metadata": {},
   "outputs": [
    {
     "data": {
      "text/plain": [
       "tensor(15)"
      ]
     },
     "execution_count": 60,
     "metadata": {},
     "output_type": "execute_result"
    }
   ],
   "source": [
    "pred.argmax()"
   ]
  },
  {
   "cell_type": "code",
   "execution_count": 61,
   "id": "2941412d-fa28-48d8-b5bd-ac6beb88f6de",
   "metadata": {},
   "outputs": [
    {
     "name": "stdout",
     "output_type": "stream",
     "text": [
      "Model structure: NeuralNetwork(\n",
      "  (flatten): Flatten(start_dim=1, end_dim=-1)\n",
      "  (linear_relu_stack): Sequential(\n",
      "    (0): Linear(in_features=784, out_features=512, bias=True)\n",
      "    (1): ReLU()\n",
      "    (2): Linear(in_features=512, out_features=512, bias=True)\n",
      "    (3): ReLU()\n",
      "    (4): Linear(in_features=512, out_features=10, bias=True)\n",
      "  )\n",
      ")\n",
      "\n",
      "\n"
     ]
    }
   ],
   "source": [
    "print(f\"Model structure: {model}\\n\\n\")"
   ]
  },
  {
   "cell_type": "code",
   "execution_count": 62,
   "id": "3f008e73-e8d7-4f6e-b79e-24eca2921526",
   "metadata": {},
   "outputs": [
    {
     "name": "stdout",
     "output_type": "stream",
     "text": [
      "Layer: linear_relu_stack.0.weight | Size: torch.Size([512, 784]) | Values : tensor([[-0.0139,  0.0281,  0.0030,  ..., -0.0033,  0.0044, -0.0280],\n",
      "        [-0.0276, -0.0011,  0.0298,  ..., -0.0121,  0.0346, -0.0011]],\n",
      "       grad_fn=<SliceBackward0>) \n",
      "\n",
      "Layer: linear_relu_stack.0.bias | Size: torch.Size([512]) | Values : tensor([-0.0007, -0.0166], grad_fn=<SliceBackward0>) \n",
      "\n",
      "Layer: linear_relu_stack.2.weight | Size: torch.Size([512, 512]) | Values : tensor([[ 0.0054,  0.0222, -0.0058,  ...,  0.0101, -0.0101, -0.0294],\n",
      "        [ 0.0375, -0.0213,  0.0273,  ...,  0.0296, -0.0147, -0.0151]],\n",
      "       grad_fn=<SliceBackward0>) \n",
      "\n",
      "Layer: linear_relu_stack.2.bias | Size: torch.Size([512]) | Values : tensor([-0.0009, -0.0233], grad_fn=<SliceBackward0>) \n",
      "\n",
      "Layer: linear_relu_stack.4.weight | Size: torch.Size([10, 512]) | Values : tensor([[ 0.0137, -0.0125, -0.0018,  ..., -0.0351, -0.0150, -0.0007],\n",
      "        [-0.0214, -0.0083, -0.0240,  ...,  0.0109,  0.0174, -0.0084]],\n",
      "       grad_fn=<SliceBackward0>) \n",
      "\n",
      "Layer: linear_relu_stack.4.bias | Size: torch.Size([10]) | Values : tensor([0.0114, 0.0330], grad_fn=<SliceBackward0>) \n",
      "\n"
     ]
    }
   ],
   "source": [
    "for name, param in model.named_parameters():\n",
    "    print(f\"Layer: {name} | Size: {param.size()} | Values : {param[:2]} \\n\")"
   ]
  },
  {
   "cell_type": "code",
   "execution_count": 65,
   "id": "f242c665-1f8a-4d6a-a5b6-7f86a7d451ad",
   "metadata": {},
   "outputs": [],
   "source": [
    "x = torch.ones(5)  # input tensor\n",
    "y = torch.zeros(3)  # expected output\n",
    "w = torch.randn(5, 3, requires_grad=True) # requires_grad \n",
    "b = torch.randn(3, requires_grad=True) # requires_grad \n",
    "z = torch.matmul(x, w)+b\n",
    "loss = torch.nn.functional.binary_cross_entropy_with_logits(z, y)"
   ]
  },
  {
   "cell_type": "markdown",
   "id": "65dc6834-18df-4bd4-9883-f03e053c1643",
   "metadata": {},
   "source": [
    "A function that we apply to tensors to construct computational graph is in fact an object of class **Function**. This object knows how to compute the function in the forward direction, and also how to compute its derivative during the backward propagation step. A reference to the backward propagation function is stored in grad_fn property of a tensor. You can find more information of Function in the documentation."
   ]
  },
  {
   "cell_type": "code",
   "execution_count": 66,
   "id": "35c3cf43-cbe6-4674-a887-b2d28ddb0ba5",
   "metadata": {},
   "outputs": [
    {
     "name": "stdout",
     "output_type": "stream",
     "text": [
      "Gradient function for z = <AddBackward0 object at 0x7efd81d8ded0>\n",
      "Gradient function for loss = <BinaryCrossEntropyWithLogitsBackward0 object at 0x7efd81d8df50>\n"
     ]
    }
   ],
   "source": [
    "print(f\"Gradient function for z = {z.grad_fn}\")\n",
    "print(f\"Gradient function for loss = {loss.grad_fn}\")"
   ]
  },
  {
   "cell_type": "code",
   "execution_count": null,
   "id": "3d98183d-9e2c-4381-ac3e-0527391a7ac6",
   "metadata": {},
   "outputs": [],
   "source": []
  }
 ],
 "metadata": {
  "environment": {
   "kernel": "python3",
   "name": "pytorch-gpu.1-11.m94",
   "type": "gcloud",
   "uri": "gcr.io/deeplearning-platform-release/pytorch-gpu.1-11:m94"
  },
  "kernelspec": {
   "display_name": "Python 3",
   "language": "python",
   "name": "python3"
  },
  "language_info": {
   "codemirror_mode": {
    "name": "ipython",
    "version": 3
   },
   "file_extension": ".py",
   "mimetype": "text/x-python",
   "name": "python",
   "nbconvert_exporter": "python",
   "pygments_lexer": "ipython3",
   "version": "3.7.12"
  }
 },
 "nbformat": 4,
 "nbformat_minor": 5
}
